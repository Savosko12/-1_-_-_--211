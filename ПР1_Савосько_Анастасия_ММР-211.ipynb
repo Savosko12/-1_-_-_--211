{
 "cells": [
  {
   "cell_type": "markdown",
   "id": "47f12139",
   "metadata": {},
   "source": [
    "# Практическая работа 1\n",
    "\n",
    "Выполнила: Савосько Анастасия, ММР211\n",
    "\n",
    "**Этот dataset содержит данные, собранные у участников скоростных свиданий с 2002 по 2004 гг.  Участников попросили оценить первое свидание по 6 параметрам: привлекательность, искренность, интеллект, веселье, амбиции и общие интересы. Более того, здесь представлены данные о расе респондентов, об их отношении к религии и расе партнёра, а также об их ожиданиях.**"
   ]
  },
  {
   "cell_type": "markdown",
   "id": "c1cefd33",
   "metadata": {},
   "source": [
    "**Гипотезы:**\n",
    "1. Религия и раса не важны для участников скоростных свиданий.\n",
    "2. Самый популярный возраст для свиданий - 25 лет.\n",
    "3. На скоростных свиданиях людей с европейской внешность будет больше, чем представителей любой другой расы\n",
    "4. Большая часть участнико не назначит свиданий после экспериментов и не получи ни одного звонка от своих пар.\n",
    "5. Люди, у которых была цель провести фан-вечер и познакомиться с новыми людьми, получили наибольшее количество \"пар\".\n",
    "6. Мужчины чаще ищут в партнёре привлекательность, а женщины - интеллект.\n",
    "7. Самым популярным времяпровождением для участников обоих полов является просмотр фильмов."
   ]
  },
  {
   "cell_type": "code",
   "execution_count": 1,
   "id": "1127da5f",
   "metadata": {},
   "outputs": [],
   "source": [
    "import pandas as pd\n",
    "# Pandas — это библиотека Python для обработки и анализа структурированных данных, её название происходит от «panel data» («панельные данные»). Панельными данными называют информацию, полученную в результате исследований и структурированную в виде таблиц. Для работы с такими массивами данных и создан Pandas.\n",
    "import glob\n",
    "# Модуль glob находит все пути, совпадающие с заданным шаблоном в соответствии с правилами, используемыми оболочкой Unix. Обрабатываются символы \"*\" (произвольное количество символов), \"?\" (один символ), и диапазоны символов с помощью [].\n",
    "import os\n",
    "# Модуль os предоставляет множество функций для работы с операционной системой, причём их поведение, как правило, не зависит от ОС, поэтому программы остаются переносимыми.\n",
    "import numpy as np\n",
    "# NumPy — это библиотека языка Python, добавляющая поддержку больших многомерных массивов и матриц, вместе с большой библиотекой высокоуровневых (и очень быстрых) математических функций для операций с этими массивами.\n",
    "import matplotlib.pyplot as plt\n",
    "# Matplotlib — это библиотека на языке Python для визуализации данных. В ней можно построить двумерные (плоские) и трехмерные графики.\n",
    "%matplotlib inline \n",
    "# Команда %matplotlib inline указывает, что график необходимо построить все в той же оболочке Jupyter, но теперь он выводится как обычная картинка. Данный способ удобен тем, что позволяет проводить очень много экспериментов в рамках одного окна (точнее web-страницы).\n",
    "import seaborn as sns\n",
    "# Seaborn – это библиотека для создания статистической инфографики на Python. Он построен поверх matplotlib, а также поддерживает структуры данных numpy и pandas.\n",
    "import holoviews\n",
    "from IPython.display import display\n",
    "\n"
   ]
  },
  {
   "cell_type": "code",
   "execution_count": 2,
   "id": "92501465",
   "metadata": {},
   "outputs": [],
   "source": [
    "for dirname, _, filenames in os.walk('/kaggle/input'):\n",
    "    for filename in filenames:\n",
    "        print(os.path.join(dirname, filename))\n",
    "# os.walk(top, topdown=True, onerror=None, followlinks=False) - генерация имён файлов в дереве каталогов, сверху вниз (если topdown равен True), либо снизу вверх (если False). Для каждого каталога функция walk возвращает кортеж (путь к каталогу, список каталогов, список файлов).\n",
    "# os.path.join(path1[, path2[, ...]]) - соединяет пути с учётом особенностей операционной системы.        \n",
    "Speed_DD=pd.read_csv('C:/Users/Savosko.viktoriya/DS/Speed_Dating_Data.csv', encoding= 'unicode_escape')"
   ]
  },
  {
   "cell_type": "code",
   "execution_count": 3,
   "id": "9a849132",
   "metadata": {},
   "outputs": [
    {
     "data": {
      "text/plain": [
       "(8378, 195)"
      ]
     },
     "execution_count": 3,
     "metadata": {},
     "output_type": "execute_result"
    }
   ],
   "source": [
    "Speed_DD.shape"
   ]
  },
  {
   "cell_type": "code",
   "execution_count": 4,
   "id": "030afda4",
   "metadata": {},
   "outputs": [
    {
     "data": {
      "text/html": [
       "<div>\n",
       "<style scoped>\n",
       "    .dataframe tbody tr th:only-of-type {\n",
       "        vertical-align: middle;\n",
       "    }\n",
       "\n",
       "    .dataframe tbody tr th {\n",
       "        vertical-align: top;\n",
       "    }\n",
       "\n",
       "    .dataframe thead th {\n",
       "        text-align: right;\n",
       "    }\n",
       "</style>\n",
       "<table border=\"1\" class=\"dataframe\">\n",
       "  <thead>\n",
       "    <tr style=\"text-align: right;\">\n",
       "      <th></th>\n",
       "      <th>iid</th>\n",
       "      <th>id</th>\n",
       "      <th>gender</th>\n",
       "      <th>idg</th>\n",
       "      <th>condtn</th>\n",
       "      <th>wave</th>\n",
       "      <th>round</th>\n",
       "      <th>position</th>\n",
       "      <th>positin1</th>\n",
       "      <th>order</th>\n",
       "      <th>...</th>\n",
       "      <th>attr3_3</th>\n",
       "      <th>sinc3_3</th>\n",
       "      <th>intel3_3</th>\n",
       "      <th>fun3_3</th>\n",
       "      <th>amb3_3</th>\n",
       "      <th>attr5_3</th>\n",
       "      <th>sinc5_3</th>\n",
       "      <th>intel5_3</th>\n",
       "      <th>fun5_3</th>\n",
       "      <th>amb5_3</th>\n",
       "    </tr>\n",
       "  </thead>\n",
       "  <tbody>\n",
       "    <tr>\n",
       "      <th>0</th>\n",
       "      <td>1</td>\n",
       "      <td>1.0</td>\n",
       "      <td>0</td>\n",
       "      <td>1</td>\n",
       "      <td>1</td>\n",
       "      <td>1</td>\n",
       "      <td>10</td>\n",
       "      <td>7</td>\n",
       "      <td>NaN</td>\n",
       "      <td>4</td>\n",
       "      <td>...</td>\n",
       "      <td>5.0</td>\n",
       "      <td>7.0</td>\n",
       "      <td>7.0</td>\n",
       "      <td>7.0</td>\n",
       "      <td>7.0</td>\n",
       "      <td>NaN</td>\n",
       "      <td>NaN</td>\n",
       "      <td>NaN</td>\n",
       "      <td>NaN</td>\n",
       "      <td>NaN</td>\n",
       "    </tr>\n",
       "    <tr>\n",
       "      <th>1</th>\n",
       "      <td>1</td>\n",
       "      <td>1.0</td>\n",
       "      <td>0</td>\n",
       "      <td>1</td>\n",
       "      <td>1</td>\n",
       "      <td>1</td>\n",
       "      <td>10</td>\n",
       "      <td>7</td>\n",
       "      <td>NaN</td>\n",
       "      <td>3</td>\n",
       "      <td>...</td>\n",
       "      <td>5.0</td>\n",
       "      <td>7.0</td>\n",
       "      <td>7.0</td>\n",
       "      <td>7.0</td>\n",
       "      <td>7.0</td>\n",
       "      <td>NaN</td>\n",
       "      <td>NaN</td>\n",
       "      <td>NaN</td>\n",
       "      <td>NaN</td>\n",
       "      <td>NaN</td>\n",
       "    </tr>\n",
       "  </tbody>\n",
       "</table>\n",
       "<p>2 rows × 195 columns</p>\n",
       "</div>"
      ],
      "text/plain": [
       "   iid   id  gender  idg  condtn  wave  round  position  positin1  order  ...  \\\n",
       "0    1  1.0       0    1       1     1     10         7       NaN      4  ...   \n",
       "1    1  1.0       0    1       1     1     10         7       NaN      3  ...   \n",
       "\n",
       "   attr3_3  sinc3_3  intel3_3  fun3_3  amb3_3  attr5_3  sinc5_3  intel5_3  \\\n",
       "0      5.0      7.0       7.0     7.0     7.0      NaN      NaN       NaN   \n",
       "1      5.0      7.0       7.0     7.0     7.0      NaN      NaN       NaN   \n",
       "\n",
       "   fun5_3  amb5_3  \n",
       "0     NaN     NaN  \n",
       "1     NaN     NaN  \n",
       "\n",
       "[2 rows x 195 columns]"
      ]
     },
     "execution_count": 4,
     "metadata": {},
     "output_type": "execute_result"
    }
   ],
   "source": [
    "Speed_DD[:2] #выводим первые 2 строчки, чтобы проверить, что получилось\n",
    "# Микровывод:Очень много данных, но использовать в анализе все не буду."
   ]
  },
  {
   "cell_type": "code",
   "execution_count": 5,
   "id": "851ec766",
   "metadata": {},
   "outputs": [
    {
     "data": {
      "text/html": [
       "        <script type=\"text/javascript\">\n",
       "        window.PlotlyConfig = {MathJaxConfig: 'local'};\n",
       "        if (window.MathJax) {MathJax.Hub.Config({SVG: {font: \"STIX-Web\"}});}\n",
       "        if (typeof require !== 'undefined') {\n",
       "        require.undef(\"plotly\");\n",
       "        requirejs.config({\n",
       "            paths: {\n",
       "                'plotly': ['https://cdn.plot.ly/plotly-2.9.0.min']\n",
       "            }\n",
       "        });\n",
       "        require(['plotly'], function(Plotly) {\n",
       "            window._Plotly = Plotly;\n",
       "        });\n",
       "        }\n",
       "        </script>\n",
       "        "
      ]
     },
     "metadata": {},
     "output_type": "display_data"
    }
   ],
   "source": [
    "# Мне хотелось попробовать нарисовать 2 диаграммы в plotly (в следующих 4х операциях примечания в основном для меня)\n",
    "# Вопрос:Что люди ищут в противоположном поле? \n",
    "pd.options.display.max_rows = 1000\n",
    "import plotly.offline as py\n",
    "#Plotly — библиотека для визуализации данных (позволяет строить интерактивные визуализации)\n",
    "# Похожие на plotly - это bokeh и pygal \n",
    "py.init_notebook_mode(connected=True)\n",
    "import plotly.graph_objs as go\n",
    "# Фигуры представляются данными в формате JSON (JavaScript Object Notation), который по структуре мало чем отличается от словаря (dict) в Python. Доступ к ним возможен через вызов класс plotly.graph_objects.\n",
    "import plotly.tools as tls\n",
    "\n",
    "atributes_gender = Speed_DD[['gender','attr1_1', 'sinc1_1','intel1_1','fun1_1','amb1_1','shar1_1']].groupby('gender').mean()\n",
    "cols = ['Привлекательность','Искренность','Интеллект','Чувство юмора','Амбиции','Общие интересы']\n",
    "# Переименовываем столбики (т.к. очень непонятно)\n",
    "atributes_gender.columns = cols"
   ]
  },
  {
   "cell_type": "code",
   "execution_count": 6,
   "id": "00f996f5",
   "metadata": {},
   "outputs": [
    {
     "data": {
      "application/vnd.plotly.v1+json": {
       "config": {
        "linkText": "Export to plot.ly",
        "plotlyServerURL": "https://plot.ly",
        "showLink": false
       },
       "data": [
        {
         "marker": {
          "color": "#FFD700"
         },
         "name": "Мужчины",
         "type": "bar",
         "x": [
          "Привлекательность",
          "Искренность",
          "Интеллект",
          "Чувство юмора",
          "Амбиции",
          "Общие интересы"
         ],
         "y": [
          26.92168902731193,
          16.49843555342597,
          19.53737422137039,
          17.76389289145053,
          8.55282859894078,
          10.996574386133846
         ]
        },
        {
         "marker": {
          "color": "#8B008B"
         },
         "name": "Женщины",
         "type": "bar",
         "x": [
          "Привлекательность",
          "Искренность",
          "Интеллект",
          "Чувство юмора",
          "Амбиции",
          "Общие интересы"
         ],
         "y": [
          18.05522424242424,
          18.305008484848486,
          21.00250181818182,
          17.14729212121212,
          12.827221818181819,
          12.704194491835242
         ]
        }
       ],
       "layout": {
        "font": {
         "size": 16
        },
        "legend": {
         "font": {
          "size": 15
         }
        },
        "template": {
         "data": {
          "bar": [
           {
            "error_x": {
             "color": "#2a3f5f"
            },
            "error_y": {
             "color": "#2a3f5f"
            },
            "marker": {
             "line": {
              "color": "#E5ECF6",
              "width": 0.5
             },
             "pattern": {
              "fillmode": "overlay",
              "size": 10,
              "solidity": 0.2
             }
            },
            "type": "bar"
           }
          ],
          "barpolar": [
           {
            "marker": {
             "line": {
              "color": "#E5ECF6",
              "width": 0.5
             },
             "pattern": {
              "fillmode": "overlay",
              "size": 10,
              "solidity": 0.2
             }
            },
            "type": "barpolar"
           }
          ],
          "carpet": [
           {
            "aaxis": {
             "endlinecolor": "#2a3f5f",
             "gridcolor": "white",
             "linecolor": "white",
             "minorgridcolor": "white",
             "startlinecolor": "#2a3f5f"
            },
            "baxis": {
             "endlinecolor": "#2a3f5f",
             "gridcolor": "white",
             "linecolor": "white",
             "minorgridcolor": "white",
             "startlinecolor": "#2a3f5f"
            },
            "type": "carpet"
           }
          ],
          "choropleth": [
           {
            "colorbar": {
             "outlinewidth": 0,
             "ticks": ""
            },
            "type": "choropleth"
           }
          ],
          "contour": [
           {
            "colorbar": {
             "outlinewidth": 0,
             "ticks": ""
            },
            "colorscale": [
             [
              0,
              "#0d0887"
             ],
             [
              0.1111111111111111,
              "#46039f"
             ],
             [
              0.2222222222222222,
              "#7201a8"
             ],
             [
              0.3333333333333333,
              "#9c179e"
             ],
             [
              0.4444444444444444,
              "#bd3786"
             ],
             [
              0.5555555555555556,
              "#d8576b"
             ],
             [
              0.6666666666666666,
              "#ed7953"
             ],
             [
              0.7777777777777778,
              "#fb9f3a"
             ],
             [
              0.8888888888888888,
              "#fdca26"
             ],
             [
              1,
              "#f0f921"
             ]
            ],
            "type": "contour"
           }
          ],
          "contourcarpet": [
           {
            "colorbar": {
             "outlinewidth": 0,
             "ticks": ""
            },
            "type": "contourcarpet"
           }
          ],
          "heatmap": [
           {
            "colorbar": {
             "outlinewidth": 0,
             "ticks": ""
            },
            "colorscale": [
             [
              0,
              "#0d0887"
             ],
             [
              0.1111111111111111,
              "#46039f"
             ],
             [
              0.2222222222222222,
              "#7201a8"
             ],
             [
              0.3333333333333333,
              "#9c179e"
             ],
             [
              0.4444444444444444,
              "#bd3786"
             ],
             [
              0.5555555555555556,
              "#d8576b"
             ],
             [
              0.6666666666666666,
              "#ed7953"
             ],
             [
              0.7777777777777778,
              "#fb9f3a"
             ],
             [
              0.8888888888888888,
              "#fdca26"
             ],
             [
              1,
              "#f0f921"
             ]
            ],
            "type": "heatmap"
           }
          ],
          "heatmapgl": [
           {
            "colorbar": {
             "outlinewidth": 0,
             "ticks": ""
            },
            "colorscale": [
             [
              0,
              "#0d0887"
             ],
             [
              0.1111111111111111,
              "#46039f"
             ],
             [
              0.2222222222222222,
              "#7201a8"
             ],
             [
              0.3333333333333333,
              "#9c179e"
             ],
             [
              0.4444444444444444,
              "#bd3786"
             ],
             [
              0.5555555555555556,
              "#d8576b"
             ],
             [
              0.6666666666666666,
              "#ed7953"
             ],
             [
              0.7777777777777778,
              "#fb9f3a"
             ],
             [
              0.8888888888888888,
              "#fdca26"
             ],
             [
              1,
              "#f0f921"
             ]
            ],
            "type": "heatmapgl"
           }
          ],
          "histogram": [
           {
            "marker": {
             "pattern": {
              "fillmode": "overlay",
              "size": 10,
              "solidity": 0.2
             }
            },
            "type": "histogram"
           }
          ],
          "histogram2d": [
           {
            "colorbar": {
             "outlinewidth": 0,
             "ticks": ""
            },
            "colorscale": [
             [
              0,
              "#0d0887"
             ],
             [
              0.1111111111111111,
              "#46039f"
             ],
             [
              0.2222222222222222,
              "#7201a8"
             ],
             [
              0.3333333333333333,
              "#9c179e"
             ],
             [
              0.4444444444444444,
              "#bd3786"
             ],
             [
              0.5555555555555556,
              "#d8576b"
             ],
             [
              0.6666666666666666,
              "#ed7953"
             ],
             [
              0.7777777777777778,
              "#fb9f3a"
             ],
             [
              0.8888888888888888,
              "#fdca26"
             ],
             [
              1,
              "#f0f921"
             ]
            ],
            "type": "histogram2d"
           }
          ],
          "histogram2dcontour": [
           {
            "colorbar": {
             "outlinewidth": 0,
             "ticks": ""
            },
            "colorscale": [
             [
              0,
              "#0d0887"
             ],
             [
              0.1111111111111111,
              "#46039f"
             ],
             [
              0.2222222222222222,
              "#7201a8"
             ],
             [
              0.3333333333333333,
              "#9c179e"
             ],
             [
              0.4444444444444444,
              "#bd3786"
             ],
             [
              0.5555555555555556,
              "#d8576b"
             ],
             [
              0.6666666666666666,
              "#ed7953"
             ],
             [
              0.7777777777777778,
              "#fb9f3a"
             ],
             [
              0.8888888888888888,
              "#fdca26"
             ],
             [
              1,
              "#f0f921"
             ]
            ],
            "type": "histogram2dcontour"
           }
          ],
          "mesh3d": [
           {
            "colorbar": {
             "outlinewidth": 0,
             "ticks": ""
            },
            "type": "mesh3d"
           }
          ],
          "parcoords": [
           {
            "line": {
             "colorbar": {
              "outlinewidth": 0,
              "ticks": ""
             }
            },
            "type": "parcoords"
           }
          ],
          "pie": [
           {
            "automargin": true,
            "type": "pie"
           }
          ],
          "scatter": [
           {
            "marker": {
             "colorbar": {
              "outlinewidth": 0,
              "ticks": ""
             }
            },
            "type": "scatter"
           }
          ],
          "scatter3d": [
           {
            "line": {
             "colorbar": {
              "outlinewidth": 0,
              "ticks": ""
             }
            },
            "marker": {
             "colorbar": {
              "outlinewidth": 0,
              "ticks": ""
             }
            },
            "type": "scatter3d"
           }
          ],
          "scattercarpet": [
           {
            "marker": {
             "colorbar": {
              "outlinewidth": 0,
              "ticks": ""
             }
            },
            "type": "scattercarpet"
           }
          ],
          "scattergeo": [
           {
            "marker": {
             "colorbar": {
              "outlinewidth": 0,
              "ticks": ""
             }
            },
            "type": "scattergeo"
           }
          ],
          "scattergl": [
           {
            "marker": {
             "colorbar": {
              "outlinewidth": 0,
              "ticks": ""
             }
            },
            "type": "scattergl"
           }
          ],
          "scattermapbox": [
           {
            "marker": {
             "colorbar": {
              "outlinewidth": 0,
              "ticks": ""
             }
            },
            "type": "scattermapbox"
           }
          ],
          "scatterpolar": [
           {
            "marker": {
             "colorbar": {
              "outlinewidth": 0,
              "ticks": ""
             }
            },
            "type": "scatterpolar"
           }
          ],
          "scatterpolargl": [
           {
            "marker": {
             "colorbar": {
              "outlinewidth": 0,
              "ticks": ""
             }
            },
            "type": "scatterpolargl"
           }
          ],
          "scatterternary": [
           {
            "marker": {
             "colorbar": {
              "outlinewidth": 0,
              "ticks": ""
             }
            },
            "type": "scatterternary"
           }
          ],
          "surface": [
           {
            "colorbar": {
             "outlinewidth": 0,
             "ticks": ""
            },
            "colorscale": [
             [
              0,
              "#0d0887"
             ],
             [
              0.1111111111111111,
              "#46039f"
             ],
             [
              0.2222222222222222,
              "#7201a8"
             ],
             [
              0.3333333333333333,
              "#9c179e"
             ],
             [
              0.4444444444444444,
              "#bd3786"
             ],
             [
              0.5555555555555556,
              "#d8576b"
             ],
             [
              0.6666666666666666,
              "#ed7953"
             ],
             [
              0.7777777777777778,
              "#fb9f3a"
             ],
             [
              0.8888888888888888,
              "#fdca26"
             ],
             [
              1,
              "#f0f921"
             ]
            ],
            "type": "surface"
           }
          ],
          "table": [
           {
            "cells": {
             "fill": {
              "color": "#EBF0F8"
             },
             "line": {
              "color": "white"
             }
            },
            "header": {
             "fill": {
              "color": "#C8D4E3"
             },
             "line": {
              "color": "white"
             }
            },
            "type": "table"
           }
          ]
         },
         "layout": {
          "annotationdefaults": {
           "arrowcolor": "#2a3f5f",
           "arrowhead": 0,
           "arrowwidth": 1
          },
          "autotypenumbers": "strict",
          "coloraxis": {
           "colorbar": {
            "outlinewidth": 0,
            "ticks": ""
           }
          },
          "colorscale": {
           "diverging": [
            [
             0,
             "#8e0152"
            ],
            [
             0.1,
             "#c51b7d"
            ],
            [
             0.2,
             "#de77ae"
            ],
            [
             0.3,
             "#f1b6da"
            ],
            [
             0.4,
             "#fde0ef"
            ],
            [
             0.5,
             "#f7f7f7"
            ],
            [
             0.6,
             "#e6f5d0"
            ],
            [
             0.7,
             "#b8e186"
            ],
            [
             0.8,
             "#7fbc41"
            ],
            [
             0.9,
             "#4d9221"
            ],
            [
             1,
             "#276419"
            ]
           ],
           "sequential": [
            [
             0,
             "#0d0887"
            ],
            [
             0.1111111111111111,
             "#46039f"
            ],
            [
             0.2222222222222222,
             "#7201a8"
            ],
            [
             0.3333333333333333,
             "#9c179e"
            ],
            [
             0.4444444444444444,
             "#bd3786"
            ],
            [
             0.5555555555555556,
             "#d8576b"
            ],
            [
             0.6666666666666666,
             "#ed7953"
            ],
            [
             0.7777777777777778,
             "#fb9f3a"
            ],
            [
             0.8888888888888888,
             "#fdca26"
            ],
            [
             1,
             "#f0f921"
            ]
           ],
           "sequentialminus": [
            [
             0,
             "#0d0887"
            ],
            [
             0.1111111111111111,
             "#46039f"
            ],
            [
             0.2222222222222222,
             "#7201a8"
            ],
            [
             0.3333333333333333,
             "#9c179e"
            ],
            [
             0.4444444444444444,
             "#bd3786"
            ],
            [
             0.5555555555555556,
             "#d8576b"
            ],
            [
             0.6666666666666666,
             "#ed7953"
            ],
            [
             0.7777777777777778,
             "#fb9f3a"
            ],
            [
             0.8888888888888888,
             "#fdca26"
            ],
            [
             1,
             "#f0f921"
            ]
           ]
          },
          "colorway": [
           "#636efa",
           "#EF553B",
           "#00cc96",
           "#ab63fa",
           "#FFA15A",
           "#19d3f3",
           "#FF6692",
           "#B6E880",
           "#FF97FF",
           "#FECB52"
          ],
          "font": {
           "color": "#2a3f5f"
          },
          "geo": {
           "bgcolor": "white",
           "lakecolor": "white",
           "landcolor": "#E5ECF6",
           "showlakes": true,
           "showland": true,
           "subunitcolor": "white"
          },
          "hoverlabel": {
           "align": "left"
          },
          "hovermode": "closest",
          "mapbox": {
           "style": "light"
          },
          "paper_bgcolor": "white",
          "plot_bgcolor": "#E5ECF6",
          "polar": {
           "angularaxis": {
            "gridcolor": "white",
            "linecolor": "white",
            "ticks": ""
           },
           "bgcolor": "#E5ECF6",
           "radialaxis": {
            "gridcolor": "white",
            "linecolor": "white",
            "ticks": ""
           }
          },
          "scene": {
           "xaxis": {
            "backgroundcolor": "#E5ECF6",
            "gridcolor": "white",
            "gridwidth": 2,
            "linecolor": "white",
            "showbackground": true,
            "ticks": "",
            "zerolinecolor": "white"
           },
           "yaxis": {
            "backgroundcolor": "#E5ECF6",
            "gridcolor": "white",
            "gridwidth": 2,
            "linecolor": "white",
            "showbackground": true,
            "ticks": "",
            "zerolinecolor": "white"
           },
           "zaxis": {
            "backgroundcolor": "#E5ECF6",
            "gridcolor": "white",
            "gridwidth": 2,
            "linecolor": "white",
            "showbackground": true,
            "ticks": "",
            "zerolinecolor": "white"
           }
          },
          "shapedefaults": {
           "line": {
            "color": "#2a3f5f"
           }
          },
          "ternary": {
           "aaxis": {
            "gridcolor": "white",
            "linecolor": "white",
            "ticks": ""
           },
           "baxis": {
            "gridcolor": "white",
            "linecolor": "white",
            "ticks": ""
           },
           "bgcolor": "#E5ECF6",
           "caxis": {
            "gridcolor": "white",
            "linecolor": "white",
            "ticks": ""
           }
          },
          "title": {
           "x": 0.05
          },
          "xaxis": {
           "automargin": true,
           "gridcolor": "white",
           "linecolor": "white",
           "ticks": "",
           "title": {
            "standoff": 15
           },
           "zerolinecolor": "white",
           "zerolinewidth": 2
          },
          "yaxis": {
           "automargin": true,
           "gridcolor": "white",
           "linecolor": "white",
           "ticks": "",
           "title": {
            "standoff": 15
           },
           "zerolinecolor": "white",
           "zerolinewidth": 2
          }
         }
        },
        "title": {
         "text": "Что люди ищут в противоположном поле?"
        }
       }
      },
      "text/html": [
       "<div>                            <div id=\"394cf7da-2498-47cf-8484-8be6c7ed8577\" class=\"plotly-graph-div\" style=\"height:525px; width:100%;\"></div>            <script type=\"text/javascript\">                require([\"plotly\"], function(Plotly) {                    window.PLOTLYENV=window.PLOTLYENV || {};                                    if (document.getElementById(\"394cf7da-2498-47cf-8484-8be6c7ed8577\")) {                    Plotly.newPlot(                        \"394cf7da-2498-47cf-8484-8be6c7ed8577\",                        [{\"marker\":{\"color\":\"#FFD700\"},\"name\":\"\\u041c\\u0443\\u0436\\u0447\\u0438\\u043d\\u044b\",\"x\":[\"\\u041f\\u0440\\u0438\\u0432\\u043b\\u0435\\u043a\\u0430\\u0442\\u0435\\u043b\\u044c\\u043d\\u043e\\u0441\\u0442\\u044c\",\"\\u0418\\u0441\\u043a\\u0440\\u0435\\u043d\\u043d\\u043e\\u0441\\u0442\\u044c\",\"\\u0418\\u043d\\u0442\\u0435\\u043b\\u043b\\u0435\\u043a\\u0442\",\"\\u0427\\u0443\\u0432\\u0441\\u0442\\u0432\\u043e \\u044e\\u043c\\u043e\\u0440\\u0430\",\"\\u0410\\u043c\\u0431\\u0438\\u0446\\u0438\\u0438\",\"\\u041e\\u0431\\u0449\\u0438\\u0435 \\u0438\\u043d\\u0442\\u0435\\u0440\\u0435\\u0441\\u044b\"],\"y\":[26.92168902731193,16.49843555342597,19.53737422137039,17.76389289145053,8.55282859894078,10.996574386133846],\"type\":\"bar\"},{\"marker\":{\"color\":\"#8B008B\"},\"name\":\"\\u0416\\u0435\\u043d\\u0449\\u0438\\u043d\\u044b\",\"x\":[\"\\u041f\\u0440\\u0438\\u0432\\u043b\\u0435\\u043a\\u0430\\u0442\\u0435\\u043b\\u044c\\u043d\\u043e\\u0441\\u0442\\u044c\",\"\\u0418\\u0441\\u043a\\u0440\\u0435\\u043d\\u043d\\u043e\\u0441\\u0442\\u044c\",\"\\u0418\\u043d\\u0442\\u0435\\u043b\\u043b\\u0435\\u043a\\u0442\",\"\\u0427\\u0443\\u0432\\u0441\\u0442\\u0432\\u043e \\u044e\\u043c\\u043e\\u0440\\u0430\",\"\\u0410\\u043c\\u0431\\u0438\\u0446\\u0438\\u0438\",\"\\u041e\\u0431\\u0449\\u0438\\u0435 \\u0438\\u043d\\u0442\\u0435\\u0440\\u0435\\u0441\\u044b\"],\"y\":[18.05522424242424,18.305008484848486,21.00250181818182,17.14729212121212,12.827221818181819,12.704194491835242],\"type\":\"bar\"}],                        {\"font\":{\"size\":16},\"legend\":{\"font\":{\"size\":15}},\"template\":{\"data\":{\"barpolar\":[{\"marker\":{\"line\":{\"color\":\"#E5ECF6\",\"width\":0.5},\"pattern\":{\"fillmode\":\"overlay\",\"size\":10,\"solidity\":0.2}},\"type\":\"barpolar\"}],\"bar\":[{\"error_x\":{\"color\":\"#2a3f5f\"},\"error_y\":{\"color\":\"#2a3f5f\"},\"marker\":{\"line\":{\"color\":\"#E5ECF6\",\"width\":0.5},\"pattern\":{\"fillmode\":\"overlay\",\"size\":10,\"solidity\":0.2}},\"type\":\"bar\"}],\"carpet\":[{\"aaxis\":{\"endlinecolor\":\"#2a3f5f\",\"gridcolor\":\"white\",\"linecolor\":\"white\",\"minorgridcolor\":\"white\",\"startlinecolor\":\"#2a3f5f\"},\"baxis\":{\"endlinecolor\":\"#2a3f5f\",\"gridcolor\":\"white\",\"linecolor\":\"white\",\"minorgridcolor\":\"white\",\"startlinecolor\":\"#2a3f5f\"},\"type\":\"carpet\"}],\"choropleth\":[{\"colorbar\":{\"outlinewidth\":0,\"ticks\":\"\"},\"type\":\"choropleth\"}],\"contourcarpet\":[{\"colorbar\":{\"outlinewidth\":0,\"ticks\":\"\"},\"type\":\"contourcarpet\"}],\"contour\":[{\"colorbar\":{\"outlinewidth\":0,\"ticks\":\"\"},\"colorscale\":[[0.0,\"#0d0887\"],[0.1111111111111111,\"#46039f\"],[0.2222222222222222,\"#7201a8\"],[0.3333333333333333,\"#9c179e\"],[0.4444444444444444,\"#bd3786\"],[0.5555555555555556,\"#d8576b\"],[0.6666666666666666,\"#ed7953\"],[0.7777777777777778,\"#fb9f3a\"],[0.8888888888888888,\"#fdca26\"],[1.0,\"#f0f921\"]],\"type\":\"contour\"}],\"heatmapgl\":[{\"colorbar\":{\"outlinewidth\":0,\"ticks\":\"\"},\"colorscale\":[[0.0,\"#0d0887\"],[0.1111111111111111,\"#46039f\"],[0.2222222222222222,\"#7201a8\"],[0.3333333333333333,\"#9c179e\"],[0.4444444444444444,\"#bd3786\"],[0.5555555555555556,\"#d8576b\"],[0.6666666666666666,\"#ed7953\"],[0.7777777777777778,\"#fb9f3a\"],[0.8888888888888888,\"#fdca26\"],[1.0,\"#f0f921\"]],\"type\":\"heatmapgl\"}],\"heatmap\":[{\"colorbar\":{\"outlinewidth\":0,\"ticks\":\"\"},\"colorscale\":[[0.0,\"#0d0887\"],[0.1111111111111111,\"#46039f\"],[0.2222222222222222,\"#7201a8\"],[0.3333333333333333,\"#9c179e\"],[0.4444444444444444,\"#bd3786\"],[0.5555555555555556,\"#d8576b\"],[0.6666666666666666,\"#ed7953\"],[0.7777777777777778,\"#fb9f3a\"],[0.8888888888888888,\"#fdca26\"],[1.0,\"#f0f921\"]],\"type\":\"heatmap\"}],\"histogram2dcontour\":[{\"colorbar\":{\"outlinewidth\":0,\"ticks\":\"\"},\"colorscale\":[[0.0,\"#0d0887\"],[0.1111111111111111,\"#46039f\"],[0.2222222222222222,\"#7201a8\"],[0.3333333333333333,\"#9c179e\"],[0.4444444444444444,\"#bd3786\"],[0.5555555555555556,\"#d8576b\"],[0.6666666666666666,\"#ed7953\"],[0.7777777777777778,\"#fb9f3a\"],[0.8888888888888888,\"#fdca26\"],[1.0,\"#f0f921\"]],\"type\":\"histogram2dcontour\"}],\"histogram2d\":[{\"colorbar\":{\"outlinewidth\":0,\"ticks\":\"\"},\"colorscale\":[[0.0,\"#0d0887\"],[0.1111111111111111,\"#46039f\"],[0.2222222222222222,\"#7201a8\"],[0.3333333333333333,\"#9c179e\"],[0.4444444444444444,\"#bd3786\"],[0.5555555555555556,\"#d8576b\"],[0.6666666666666666,\"#ed7953\"],[0.7777777777777778,\"#fb9f3a\"],[0.8888888888888888,\"#fdca26\"],[1.0,\"#f0f921\"]],\"type\":\"histogram2d\"}],\"histogram\":[{\"marker\":{\"pattern\":{\"fillmode\":\"overlay\",\"size\":10,\"solidity\":0.2}},\"type\":\"histogram\"}],\"mesh3d\":[{\"colorbar\":{\"outlinewidth\":0,\"ticks\":\"\"},\"type\":\"mesh3d\"}],\"parcoords\":[{\"line\":{\"colorbar\":{\"outlinewidth\":0,\"ticks\":\"\"}},\"type\":\"parcoords\"}],\"pie\":[{\"automargin\":true,\"type\":\"pie\"}],\"scatter3d\":[{\"line\":{\"colorbar\":{\"outlinewidth\":0,\"ticks\":\"\"}},\"marker\":{\"colorbar\":{\"outlinewidth\":0,\"ticks\":\"\"}},\"type\":\"scatter3d\"}],\"scattercarpet\":[{\"marker\":{\"colorbar\":{\"outlinewidth\":0,\"ticks\":\"\"}},\"type\":\"scattercarpet\"}],\"scattergeo\":[{\"marker\":{\"colorbar\":{\"outlinewidth\":0,\"ticks\":\"\"}},\"type\":\"scattergeo\"}],\"scattergl\":[{\"marker\":{\"colorbar\":{\"outlinewidth\":0,\"ticks\":\"\"}},\"type\":\"scattergl\"}],\"scattermapbox\":[{\"marker\":{\"colorbar\":{\"outlinewidth\":0,\"ticks\":\"\"}},\"type\":\"scattermapbox\"}],\"scatterpolargl\":[{\"marker\":{\"colorbar\":{\"outlinewidth\":0,\"ticks\":\"\"}},\"type\":\"scatterpolargl\"}],\"scatterpolar\":[{\"marker\":{\"colorbar\":{\"outlinewidth\":0,\"ticks\":\"\"}},\"type\":\"scatterpolar\"}],\"scatter\":[{\"marker\":{\"colorbar\":{\"outlinewidth\":0,\"ticks\":\"\"}},\"type\":\"scatter\"}],\"scatterternary\":[{\"marker\":{\"colorbar\":{\"outlinewidth\":0,\"ticks\":\"\"}},\"type\":\"scatterternary\"}],\"surface\":[{\"colorbar\":{\"outlinewidth\":0,\"ticks\":\"\"},\"colorscale\":[[0.0,\"#0d0887\"],[0.1111111111111111,\"#46039f\"],[0.2222222222222222,\"#7201a8\"],[0.3333333333333333,\"#9c179e\"],[0.4444444444444444,\"#bd3786\"],[0.5555555555555556,\"#d8576b\"],[0.6666666666666666,\"#ed7953\"],[0.7777777777777778,\"#fb9f3a\"],[0.8888888888888888,\"#fdca26\"],[1.0,\"#f0f921\"]],\"type\":\"surface\"}],\"table\":[{\"cells\":{\"fill\":{\"color\":\"#EBF0F8\"},\"line\":{\"color\":\"white\"}},\"header\":{\"fill\":{\"color\":\"#C8D4E3\"},\"line\":{\"color\":\"white\"}},\"type\":\"table\"}]},\"layout\":{\"annotationdefaults\":{\"arrowcolor\":\"#2a3f5f\",\"arrowhead\":0,\"arrowwidth\":1},\"autotypenumbers\":\"strict\",\"coloraxis\":{\"colorbar\":{\"outlinewidth\":0,\"ticks\":\"\"}},\"colorscale\":{\"diverging\":[[0,\"#8e0152\"],[0.1,\"#c51b7d\"],[0.2,\"#de77ae\"],[0.3,\"#f1b6da\"],[0.4,\"#fde0ef\"],[0.5,\"#f7f7f7\"],[0.6,\"#e6f5d0\"],[0.7,\"#b8e186\"],[0.8,\"#7fbc41\"],[0.9,\"#4d9221\"],[1,\"#276419\"]],\"sequential\":[[0.0,\"#0d0887\"],[0.1111111111111111,\"#46039f\"],[0.2222222222222222,\"#7201a8\"],[0.3333333333333333,\"#9c179e\"],[0.4444444444444444,\"#bd3786\"],[0.5555555555555556,\"#d8576b\"],[0.6666666666666666,\"#ed7953\"],[0.7777777777777778,\"#fb9f3a\"],[0.8888888888888888,\"#fdca26\"],[1.0,\"#f0f921\"]],\"sequentialminus\":[[0.0,\"#0d0887\"],[0.1111111111111111,\"#46039f\"],[0.2222222222222222,\"#7201a8\"],[0.3333333333333333,\"#9c179e\"],[0.4444444444444444,\"#bd3786\"],[0.5555555555555556,\"#d8576b\"],[0.6666666666666666,\"#ed7953\"],[0.7777777777777778,\"#fb9f3a\"],[0.8888888888888888,\"#fdca26\"],[1.0,\"#f0f921\"]]},\"colorway\":[\"#636efa\",\"#EF553B\",\"#00cc96\",\"#ab63fa\",\"#FFA15A\",\"#19d3f3\",\"#FF6692\",\"#B6E880\",\"#FF97FF\",\"#FECB52\"],\"font\":{\"color\":\"#2a3f5f\"},\"geo\":{\"bgcolor\":\"white\",\"lakecolor\":\"white\",\"landcolor\":\"#E5ECF6\",\"showlakes\":true,\"showland\":true,\"subunitcolor\":\"white\"},\"hoverlabel\":{\"align\":\"left\"},\"hovermode\":\"closest\",\"mapbox\":{\"style\":\"light\"},\"paper_bgcolor\":\"white\",\"plot_bgcolor\":\"#E5ECF6\",\"polar\":{\"angularaxis\":{\"gridcolor\":\"white\",\"linecolor\":\"white\",\"ticks\":\"\"},\"bgcolor\":\"#E5ECF6\",\"radialaxis\":{\"gridcolor\":\"white\",\"linecolor\":\"white\",\"ticks\":\"\"}},\"scene\":{\"xaxis\":{\"backgroundcolor\":\"#E5ECF6\",\"gridcolor\":\"white\",\"gridwidth\":2,\"linecolor\":\"white\",\"showbackground\":true,\"ticks\":\"\",\"zerolinecolor\":\"white\"},\"yaxis\":{\"backgroundcolor\":\"#E5ECF6\",\"gridcolor\":\"white\",\"gridwidth\":2,\"linecolor\":\"white\",\"showbackground\":true,\"ticks\":\"\",\"zerolinecolor\":\"white\"},\"zaxis\":{\"backgroundcolor\":\"#E5ECF6\",\"gridcolor\":\"white\",\"gridwidth\":2,\"linecolor\":\"white\",\"showbackground\":true,\"ticks\":\"\",\"zerolinecolor\":\"white\"}},\"shapedefaults\":{\"line\":{\"color\":\"#2a3f5f\"}},\"ternary\":{\"aaxis\":{\"gridcolor\":\"white\",\"linecolor\":\"white\",\"ticks\":\"\"},\"baxis\":{\"gridcolor\":\"white\",\"linecolor\":\"white\",\"ticks\":\"\"},\"bgcolor\":\"#E5ECF6\",\"caxis\":{\"gridcolor\":\"white\",\"linecolor\":\"white\",\"ticks\":\"\"}},\"title\":{\"x\":0.05},\"xaxis\":{\"automargin\":true,\"gridcolor\":\"white\",\"linecolor\":\"white\",\"ticks\":\"\",\"title\":{\"standoff\":15},\"zerolinecolor\":\"white\",\"zerolinewidth\":2},\"yaxis\":{\"automargin\":true,\"gridcolor\":\"white\",\"linecolor\":\"white\",\"ticks\":\"\",\"title\":{\"standoff\":15},\"zerolinecolor\":\"white\",\"zerolinewidth\":2}}},\"title\":{\"text\":\"\\u0427\\u0442\\u043e \\u043b\\u044e\\u0434\\u0438 \\u0438\\u0449\\u0443\\u0442 \\u0432 \\u043f\\u0440\\u043e\\u0442\\u0438\\u0432\\u043e\\u043f\\u043e\\u043b\\u043e\\u0436\\u043d\\u043e\\u043c \\u043f\\u043e\\u043b\\u0435?\"}},                        {\"responsive\": true}                    ).then(function(){\n",
       "                            \n",
       "var gd = document.getElementById('394cf7da-2498-47cf-8484-8be6c7ed8577');\n",
       "var x = new MutationObserver(function (mutations, observer) {{\n",
       "        var display = window.getComputedStyle(gd).display;\n",
       "        if (!display || display === 'none') {{\n",
       "            console.log([gd, 'removed!']);\n",
       "            Plotly.purge(gd);\n",
       "            observer.disconnect();\n",
       "        }}\n",
       "}});\n",
       "\n",
       "// Listen for the removal of the full notebook cells\n",
       "var notebookContainer = gd.closest('#notebook-container');\n",
       "if (notebookContainer) {{\n",
       "    x.observe(notebookContainer, {childList: true});\n",
       "}}\n",
       "\n",
       "// Listen for the clearing of the current output cell\n",
       "var outputEl = gd.closest('.output');\n",
       "if (outputEl) {{\n",
       "    x.observe(outputEl, {childList: true});\n",
       "}}\n",
       "\n",
       "                        })                };                });            </script>        </div>"
      ]
     },
     "metadata": {},
     "output_type": "display_data"
    }
   ],
   "source": [
    "trace1 = go.Bar(y=list(atributes_gender.iloc[1]),x=atributes_gender.columns.values,name='Мужчины',marker=dict(color='#FFD700'))\n",
    "# Я пока не \"декодировала\" данные в таблице, поэтому в графе \"пол\" у мужчин стоит \"1\"\n",
    "# Первый корневой атрибут data имеет значением список словарей. Эти словари называются traces.\n",
    "trace2 = go.Bar(y=list(atributes_gender.iloc[0]),x=atributes_gender.columns.values,name='Женщины',marker=dict(color='#8B008B'))\n",
    "# Я пока не \"декодировала\" данные в таблице, поэтому в графе \"пол\" у женщин стоит \"0\"\n",
    "data1 = [trace1, trace2]\n",
    "\n",
    "layout = go.Layout(title='Что люди ищут в противоположном поле?',font=dict(size=16),legend=dict(font=dict(size=15)))\n",
    "# Второй корневой атрибут layout имеет значением словарь.Отвечает за визуализацию (заголовок, размер и т.д.) \n",
    "# Данный атрибут ответственен за расположение и настройки не связанных с данными частей фигуры.\n",
    "fig = go.Figure(data=data1, layout=layout)\n",
    "py.iplot(fig, filename='barchart')\n",
    "# Микровывод:Мужчины чаще ищут привлекательность, а женщины - интеллект. "
   ]
  },
  {
   "cell_type": "code",
   "execution_count": 7,
   "id": "68f0aa28",
   "metadata": {},
   "outputs": [],
   "source": [
    "# Вопрос: Какие интересы у мужчин и женщин (по видам деятельности)?\n",
    "activities_interested=['sports','tvsports','exercise','dining','museums','art','hiking','gaming','clubbing','reading',\n",
    "                       'tv','theater','movies','concerts','music','shopping','yoga']\n",
    "activities = Speed_DD.groupby(['gender']).mean()[activities_interested].values\n",
    "# Решила не переименовывать"
   ]
  },
  {
   "cell_type": "code",
   "execution_count": 8,
   "id": "f701e3af",
   "metadata": {},
   "outputs": [
    {
     "data": {
      "application/vnd.plotly.v1+json": {
       "config": {
        "linkText": "Export to plot.ly",
        "plotlyServerURL": "https://plot.ly",
        "showLink": false
       },
       "data": [
        {
         "marker": {
          "color": "#FFD700"
         },
         "name": "Женщины",
         "type": "bar",
         "x": [
          "sports",
          "tvsports",
          "exercise",
          "dining",
          "museums",
          "art",
          "hiking",
          "gaming",
          "clubbing",
          "reading",
          "tv",
          "theater",
          "movies",
          "concerts",
          "music",
          "shopping",
          "yoga"
         ],
         "y": [
          5.8133333333333335,
          4.162424242424242,
          6.450909090909091,
          8.147151515151515,
          7.4283636363636365,
          7.219636363636364,
          5.942060606060606,
          3.3023030303030305,
          5.899878787878788,
          7.907151515151515,
          5.739393939393939,
          7.481939393939394,
          8.198060606060606,
          7.103757575757576,
          7.989575757575758,
          6.499151515151516,
          4.9898181818181815
         ]
        },
        {
         "marker": {
          "color": "#8B008B"
         },
         "name": "Мужчины",
         "type": "bar",
         "x": [
          "sports",
          "tvsports",
          "exercise",
          "dining",
          "museums",
          "art",
          "hiking",
          "gaming",
          "clubbing",
          "reading",
          "tv",
          "theater",
          "movies",
          "concerts",
          "music",
          "shopping",
          "yoga"
         ],
         "y": [
          7.029947292764734,
          4.983708672735984,
          6.043124101581217,
          7.424772400574988,
          6.548394825107811,
          6.215380929563968,
          5.534499281264973,
          4.453282223287015,
          5.593914710110206,
          7.452563488260661,
          4.873981792045999,
          6.078581696214663,
          7.644465740297077,
          6.550311451844753,
          7.714183037853378,
          4.77359846669861,
          3.6962146621945378
         ]
        }
       ],
       "layout": {
        "barmode": "stack",
        "font": {
         "size": 16
        },
        "legend": {
         "font": {
          "size": 15
         }
        },
        "template": {
         "data": {
          "bar": [
           {
            "error_x": {
             "color": "#2a3f5f"
            },
            "error_y": {
             "color": "#2a3f5f"
            },
            "marker": {
             "line": {
              "color": "#E5ECF6",
              "width": 0.5
             },
             "pattern": {
              "fillmode": "overlay",
              "size": 10,
              "solidity": 0.2
             }
            },
            "type": "bar"
           }
          ],
          "barpolar": [
           {
            "marker": {
             "line": {
              "color": "#E5ECF6",
              "width": 0.5
             },
             "pattern": {
              "fillmode": "overlay",
              "size": 10,
              "solidity": 0.2
             }
            },
            "type": "barpolar"
           }
          ],
          "carpet": [
           {
            "aaxis": {
             "endlinecolor": "#2a3f5f",
             "gridcolor": "white",
             "linecolor": "white",
             "minorgridcolor": "white",
             "startlinecolor": "#2a3f5f"
            },
            "baxis": {
             "endlinecolor": "#2a3f5f",
             "gridcolor": "white",
             "linecolor": "white",
             "minorgridcolor": "white",
             "startlinecolor": "#2a3f5f"
            },
            "type": "carpet"
           }
          ],
          "choropleth": [
           {
            "colorbar": {
             "outlinewidth": 0,
             "ticks": ""
            },
            "type": "choropleth"
           }
          ],
          "contour": [
           {
            "colorbar": {
             "outlinewidth": 0,
             "ticks": ""
            },
            "colorscale": [
             [
              0,
              "#0d0887"
             ],
             [
              0.1111111111111111,
              "#46039f"
             ],
             [
              0.2222222222222222,
              "#7201a8"
             ],
             [
              0.3333333333333333,
              "#9c179e"
             ],
             [
              0.4444444444444444,
              "#bd3786"
             ],
             [
              0.5555555555555556,
              "#d8576b"
             ],
             [
              0.6666666666666666,
              "#ed7953"
             ],
             [
              0.7777777777777778,
              "#fb9f3a"
             ],
             [
              0.8888888888888888,
              "#fdca26"
             ],
             [
              1,
              "#f0f921"
             ]
            ],
            "type": "contour"
           }
          ],
          "contourcarpet": [
           {
            "colorbar": {
             "outlinewidth": 0,
             "ticks": ""
            },
            "type": "contourcarpet"
           }
          ],
          "heatmap": [
           {
            "colorbar": {
             "outlinewidth": 0,
             "ticks": ""
            },
            "colorscale": [
             [
              0,
              "#0d0887"
             ],
             [
              0.1111111111111111,
              "#46039f"
             ],
             [
              0.2222222222222222,
              "#7201a8"
             ],
             [
              0.3333333333333333,
              "#9c179e"
             ],
             [
              0.4444444444444444,
              "#bd3786"
             ],
             [
              0.5555555555555556,
              "#d8576b"
             ],
             [
              0.6666666666666666,
              "#ed7953"
             ],
             [
              0.7777777777777778,
              "#fb9f3a"
             ],
             [
              0.8888888888888888,
              "#fdca26"
             ],
             [
              1,
              "#f0f921"
             ]
            ],
            "type": "heatmap"
           }
          ],
          "heatmapgl": [
           {
            "colorbar": {
             "outlinewidth": 0,
             "ticks": ""
            },
            "colorscale": [
             [
              0,
              "#0d0887"
             ],
             [
              0.1111111111111111,
              "#46039f"
             ],
             [
              0.2222222222222222,
              "#7201a8"
             ],
             [
              0.3333333333333333,
              "#9c179e"
             ],
             [
              0.4444444444444444,
              "#bd3786"
             ],
             [
              0.5555555555555556,
              "#d8576b"
             ],
             [
              0.6666666666666666,
              "#ed7953"
             ],
             [
              0.7777777777777778,
              "#fb9f3a"
             ],
             [
              0.8888888888888888,
              "#fdca26"
             ],
             [
              1,
              "#f0f921"
             ]
            ],
            "type": "heatmapgl"
           }
          ],
          "histogram": [
           {
            "marker": {
             "pattern": {
              "fillmode": "overlay",
              "size": 10,
              "solidity": 0.2
             }
            },
            "type": "histogram"
           }
          ],
          "histogram2d": [
           {
            "colorbar": {
             "outlinewidth": 0,
             "ticks": ""
            },
            "colorscale": [
             [
              0,
              "#0d0887"
             ],
             [
              0.1111111111111111,
              "#46039f"
             ],
             [
              0.2222222222222222,
              "#7201a8"
             ],
             [
              0.3333333333333333,
              "#9c179e"
             ],
             [
              0.4444444444444444,
              "#bd3786"
             ],
             [
              0.5555555555555556,
              "#d8576b"
             ],
             [
              0.6666666666666666,
              "#ed7953"
             ],
             [
              0.7777777777777778,
              "#fb9f3a"
             ],
             [
              0.8888888888888888,
              "#fdca26"
             ],
             [
              1,
              "#f0f921"
             ]
            ],
            "type": "histogram2d"
           }
          ],
          "histogram2dcontour": [
           {
            "colorbar": {
             "outlinewidth": 0,
             "ticks": ""
            },
            "colorscale": [
             [
              0,
              "#0d0887"
             ],
             [
              0.1111111111111111,
              "#46039f"
             ],
             [
              0.2222222222222222,
              "#7201a8"
             ],
             [
              0.3333333333333333,
              "#9c179e"
             ],
             [
              0.4444444444444444,
              "#bd3786"
             ],
             [
              0.5555555555555556,
              "#d8576b"
             ],
             [
              0.6666666666666666,
              "#ed7953"
             ],
             [
              0.7777777777777778,
              "#fb9f3a"
             ],
             [
              0.8888888888888888,
              "#fdca26"
             ],
             [
              1,
              "#f0f921"
             ]
            ],
            "type": "histogram2dcontour"
           }
          ],
          "mesh3d": [
           {
            "colorbar": {
             "outlinewidth": 0,
             "ticks": ""
            },
            "type": "mesh3d"
           }
          ],
          "parcoords": [
           {
            "line": {
             "colorbar": {
              "outlinewidth": 0,
              "ticks": ""
             }
            },
            "type": "parcoords"
           }
          ],
          "pie": [
           {
            "automargin": true,
            "type": "pie"
           }
          ],
          "scatter": [
           {
            "marker": {
             "colorbar": {
              "outlinewidth": 0,
              "ticks": ""
             }
            },
            "type": "scatter"
           }
          ],
          "scatter3d": [
           {
            "line": {
             "colorbar": {
              "outlinewidth": 0,
              "ticks": ""
             }
            },
            "marker": {
             "colorbar": {
              "outlinewidth": 0,
              "ticks": ""
             }
            },
            "type": "scatter3d"
           }
          ],
          "scattercarpet": [
           {
            "marker": {
             "colorbar": {
              "outlinewidth": 0,
              "ticks": ""
             }
            },
            "type": "scattercarpet"
           }
          ],
          "scattergeo": [
           {
            "marker": {
             "colorbar": {
              "outlinewidth": 0,
              "ticks": ""
             }
            },
            "type": "scattergeo"
           }
          ],
          "scattergl": [
           {
            "marker": {
             "colorbar": {
              "outlinewidth": 0,
              "ticks": ""
             }
            },
            "type": "scattergl"
           }
          ],
          "scattermapbox": [
           {
            "marker": {
             "colorbar": {
              "outlinewidth": 0,
              "ticks": ""
             }
            },
            "type": "scattermapbox"
           }
          ],
          "scatterpolar": [
           {
            "marker": {
             "colorbar": {
              "outlinewidth": 0,
              "ticks": ""
             }
            },
            "type": "scatterpolar"
           }
          ],
          "scatterpolargl": [
           {
            "marker": {
             "colorbar": {
              "outlinewidth": 0,
              "ticks": ""
             }
            },
            "type": "scatterpolargl"
           }
          ],
          "scatterternary": [
           {
            "marker": {
             "colorbar": {
              "outlinewidth": 0,
              "ticks": ""
             }
            },
            "type": "scatterternary"
           }
          ],
          "surface": [
           {
            "colorbar": {
             "outlinewidth": 0,
             "ticks": ""
            },
            "colorscale": [
             [
              0,
              "#0d0887"
             ],
             [
              0.1111111111111111,
              "#46039f"
             ],
             [
              0.2222222222222222,
              "#7201a8"
             ],
             [
              0.3333333333333333,
              "#9c179e"
             ],
             [
              0.4444444444444444,
              "#bd3786"
             ],
             [
              0.5555555555555556,
              "#d8576b"
             ],
             [
              0.6666666666666666,
              "#ed7953"
             ],
             [
              0.7777777777777778,
              "#fb9f3a"
             ],
             [
              0.8888888888888888,
              "#fdca26"
             ],
             [
              1,
              "#f0f921"
             ]
            ],
            "type": "surface"
           }
          ],
          "table": [
           {
            "cells": {
             "fill": {
              "color": "#EBF0F8"
             },
             "line": {
              "color": "white"
             }
            },
            "header": {
             "fill": {
              "color": "#C8D4E3"
             },
             "line": {
              "color": "white"
             }
            },
            "type": "table"
           }
          ]
         },
         "layout": {
          "annotationdefaults": {
           "arrowcolor": "#2a3f5f",
           "arrowhead": 0,
           "arrowwidth": 1
          },
          "autotypenumbers": "strict",
          "coloraxis": {
           "colorbar": {
            "outlinewidth": 0,
            "ticks": ""
           }
          },
          "colorscale": {
           "diverging": [
            [
             0,
             "#8e0152"
            ],
            [
             0.1,
             "#c51b7d"
            ],
            [
             0.2,
             "#de77ae"
            ],
            [
             0.3,
             "#f1b6da"
            ],
            [
             0.4,
             "#fde0ef"
            ],
            [
             0.5,
             "#f7f7f7"
            ],
            [
             0.6,
             "#e6f5d0"
            ],
            [
             0.7,
             "#b8e186"
            ],
            [
             0.8,
             "#7fbc41"
            ],
            [
             0.9,
             "#4d9221"
            ],
            [
             1,
             "#276419"
            ]
           ],
           "sequential": [
            [
             0,
             "#0d0887"
            ],
            [
             0.1111111111111111,
             "#46039f"
            ],
            [
             0.2222222222222222,
             "#7201a8"
            ],
            [
             0.3333333333333333,
             "#9c179e"
            ],
            [
             0.4444444444444444,
             "#bd3786"
            ],
            [
             0.5555555555555556,
             "#d8576b"
            ],
            [
             0.6666666666666666,
             "#ed7953"
            ],
            [
             0.7777777777777778,
             "#fb9f3a"
            ],
            [
             0.8888888888888888,
             "#fdca26"
            ],
            [
             1,
             "#f0f921"
            ]
           ],
           "sequentialminus": [
            [
             0,
             "#0d0887"
            ],
            [
             0.1111111111111111,
             "#46039f"
            ],
            [
             0.2222222222222222,
             "#7201a8"
            ],
            [
             0.3333333333333333,
             "#9c179e"
            ],
            [
             0.4444444444444444,
             "#bd3786"
            ],
            [
             0.5555555555555556,
             "#d8576b"
            ],
            [
             0.6666666666666666,
             "#ed7953"
            ],
            [
             0.7777777777777778,
             "#fb9f3a"
            ],
            [
             0.8888888888888888,
             "#fdca26"
            ],
            [
             1,
             "#f0f921"
            ]
           ]
          },
          "colorway": [
           "#636efa",
           "#EF553B",
           "#00cc96",
           "#ab63fa",
           "#FFA15A",
           "#19d3f3",
           "#FF6692",
           "#B6E880",
           "#FF97FF",
           "#FECB52"
          ],
          "font": {
           "color": "#2a3f5f"
          },
          "geo": {
           "bgcolor": "white",
           "lakecolor": "white",
           "landcolor": "#E5ECF6",
           "showlakes": true,
           "showland": true,
           "subunitcolor": "white"
          },
          "hoverlabel": {
           "align": "left"
          },
          "hovermode": "closest",
          "mapbox": {
           "style": "light"
          },
          "paper_bgcolor": "white",
          "plot_bgcolor": "#E5ECF6",
          "polar": {
           "angularaxis": {
            "gridcolor": "white",
            "linecolor": "white",
            "ticks": ""
           },
           "bgcolor": "#E5ECF6",
           "radialaxis": {
            "gridcolor": "white",
            "linecolor": "white",
            "ticks": ""
           }
          },
          "scene": {
           "xaxis": {
            "backgroundcolor": "#E5ECF6",
            "gridcolor": "white",
            "gridwidth": 2,
            "linecolor": "white",
            "showbackground": true,
            "ticks": "",
            "zerolinecolor": "white"
           },
           "yaxis": {
            "backgroundcolor": "#E5ECF6",
            "gridcolor": "white",
            "gridwidth": 2,
            "linecolor": "white",
            "showbackground": true,
            "ticks": "",
            "zerolinecolor": "white"
           },
           "zaxis": {
            "backgroundcolor": "#E5ECF6",
            "gridcolor": "white",
            "gridwidth": 2,
            "linecolor": "white",
            "showbackground": true,
            "ticks": "",
            "zerolinecolor": "white"
           }
          },
          "shapedefaults": {
           "line": {
            "color": "#2a3f5f"
           }
          },
          "ternary": {
           "aaxis": {
            "gridcolor": "white",
            "linecolor": "white",
            "ticks": ""
           },
           "baxis": {
            "gridcolor": "white",
            "linecolor": "white",
            "ticks": ""
           },
           "bgcolor": "#E5ECF6",
           "caxis": {
            "gridcolor": "white",
            "linecolor": "white",
            "ticks": ""
           }
          },
          "title": {
           "x": 0.05
          },
          "xaxis": {
           "automargin": true,
           "gridcolor": "white",
           "linecolor": "white",
           "ticks": "",
           "title": {
            "standoff": 15
           },
           "zerolinecolor": "white",
           "zerolinewidth": 2
          },
          "yaxis": {
           "automargin": true,
           "gridcolor": "white",
           "linecolor": "white",
           "ticks": "",
           "title": {
            "standoff": 15
           },
           "zerolinecolor": "white",
           "zerolinewidth": 2
          }
         }
        },
        "title": {
         "text": "Интересы по видам деятельности Мужчин и Женщин"
        }
       }
      },
      "text/html": [
       "<div>                            <div id=\"879c32b5-08bc-4851-89dd-d88adf1a0d03\" class=\"plotly-graph-div\" style=\"height:525px; width:100%;\"></div>            <script type=\"text/javascript\">                require([\"plotly\"], function(Plotly) {                    window.PLOTLYENV=window.PLOTLYENV || {};                                    if (document.getElementById(\"879c32b5-08bc-4851-89dd-d88adf1a0d03\")) {                    Plotly.newPlot(                        \"879c32b5-08bc-4851-89dd-d88adf1a0d03\",                        [{\"marker\":{\"color\":\"#FFD700\"},\"name\":\"\\u0416\\u0435\\u043d\\u0449\\u0438\\u043d\\u044b\",\"x\":[\"sports\",\"tvsports\",\"exercise\",\"dining\",\"museums\",\"art\",\"hiking\",\"gaming\",\"clubbing\",\"reading\",\"tv\",\"theater\",\"movies\",\"concerts\",\"music\",\"shopping\",\"yoga\"],\"y\":[5.8133333333333335,4.162424242424242,6.450909090909091,8.147151515151515,7.4283636363636365,7.219636363636364,5.942060606060606,3.3023030303030305,5.899878787878788,7.907151515151515,5.739393939393939,7.481939393939394,8.198060606060606,7.103757575757576,7.989575757575758,6.499151515151516,4.9898181818181815],\"type\":\"bar\"},{\"marker\":{\"color\":\"#8B008B\"},\"name\":\"\\u041c\\u0443\\u0436\\u0447\\u0438\\u043d\\u044b\",\"x\":[\"sports\",\"tvsports\",\"exercise\",\"dining\",\"museums\",\"art\",\"hiking\",\"gaming\",\"clubbing\",\"reading\",\"tv\",\"theater\",\"movies\",\"concerts\",\"music\",\"shopping\",\"yoga\"],\"y\":[7.029947292764734,4.983708672735984,6.043124101581217,7.424772400574988,6.548394825107811,6.215380929563968,5.534499281264973,4.453282223287015,5.593914710110206,7.452563488260661,4.873981792045999,6.078581696214663,7.644465740297077,6.550311451844753,7.714183037853378,4.77359846669861,3.6962146621945378],\"type\":\"bar\"}],                        {\"barmode\":\"stack\",\"font\":{\"size\":16},\"legend\":{\"font\":{\"size\":15}},\"template\":{\"data\":{\"barpolar\":[{\"marker\":{\"line\":{\"color\":\"#E5ECF6\",\"width\":0.5},\"pattern\":{\"fillmode\":\"overlay\",\"size\":10,\"solidity\":0.2}},\"type\":\"barpolar\"}],\"bar\":[{\"error_x\":{\"color\":\"#2a3f5f\"},\"error_y\":{\"color\":\"#2a3f5f\"},\"marker\":{\"line\":{\"color\":\"#E5ECF6\",\"width\":0.5},\"pattern\":{\"fillmode\":\"overlay\",\"size\":10,\"solidity\":0.2}},\"type\":\"bar\"}],\"carpet\":[{\"aaxis\":{\"endlinecolor\":\"#2a3f5f\",\"gridcolor\":\"white\",\"linecolor\":\"white\",\"minorgridcolor\":\"white\",\"startlinecolor\":\"#2a3f5f\"},\"baxis\":{\"endlinecolor\":\"#2a3f5f\",\"gridcolor\":\"white\",\"linecolor\":\"white\",\"minorgridcolor\":\"white\",\"startlinecolor\":\"#2a3f5f\"},\"type\":\"carpet\"}],\"choropleth\":[{\"colorbar\":{\"outlinewidth\":0,\"ticks\":\"\"},\"type\":\"choropleth\"}],\"contourcarpet\":[{\"colorbar\":{\"outlinewidth\":0,\"ticks\":\"\"},\"type\":\"contourcarpet\"}],\"contour\":[{\"colorbar\":{\"outlinewidth\":0,\"ticks\":\"\"},\"colorscale\":[[0.0,\"#0d0887\"],[0.1111111111111111,\"#46039f\"],[0.2222222222222222,\"#7201a8\"],[0.3333333333333333,\"#9c179e\"],[0.4444444444444444,\"#bd3786\"],[0.5555555555555556,\"#d8576b\"],[0.6666666666666666,\"#ed7953\"],[0.7777777777777778,\"#fb9f3a\"],[0.8888888888888888,\"#fdca26\"],[1.0,\"#f0f921\"]],\"type\":\"contour\"}],\"heatmapgl\":[{\"colorbar\":{\"outlinewidth\":0,\"ticks\":\"\"},\"colorscale\":[[0.0,\"#0d0887\"],[0.1111111111111111,\"#46039f\"],[0.2222222222222222,\"#7201a8\"],[0.3333333333333333,\"#9c179e\"],[0.4444444444444444,\"#bd3786\"],[0.5555555555555556,\"#d8576b\"],[0.6666666666666666,\"#ed7953\"],[0.7777777777777778,\"#fb9f3a\"],[0.8888888888888888,\"#fdca26\"],[1.0,\"#f0f921\"]],\"type\":\"heatmapgl\"}],\"heatmap\":[{\"colorbar\":{\"outlinewidth\":0,\"ticks\":\"\"},\"colorscale\":[[0.0,\"#0d0887\"],[0.1111111111111111,\"#46039f\"],[0.2222222222222222,\"#7201a8\"],[0.3333333333333333,\"#9c179e\"],[0.4444444444444444,\"#bd3786\"],[0.5555555555555556,\"#d8576b\"],[0.6666666666666666,\"#ed7953\"],[0.7777777777777778,\"#fb9f3a\"],[0.8888888888888888,\"#fdca26\"],[1.0,\"#f0f921\"]],\"type\":\"heatmap\"}],\"histogram2dcontour\":[{\"colorbar\":{\"outlinewidth\":0,\"ticks\":\"\"},\"colorscale\":[[0.0,\"#0d0887\"],[0.1111111111111111,\"#46039f\"],[0.2222222222222222,\"#7201a8\"],[0.3333333333333333,\"#9c179e\"],[0.4444444444444444,\"#bd3786\"],[0.5555555555555556,\"#d8576b\"],[0.6666666666666666,\"#ed7953\"],[0.7777777777777778,\"#fb9f3a\"],[0.8888888888888888,\"#fdca26\"],[1.0,\"#f0f921\"]],\"type\":\"histogram2dcontour\"}],\"histogram2d\":[{\"colorbar\":{\"outlinewidth\":0,\"ticks\":\"\"},\"colorscale\":[[0.0,\"#0d0887\"],[0.1111111111111111,\"#46039f\"],[0.2222222222222222,\"#7201a8\"],[0.3333333333333333,\"#9c179e\"],[0.4444444444444444,\"#bd3786\"],[0.5555555555555556,\"#d8576b\"],[0.6666666666666666,\"#ed7953\"],[0.7777777777777778,\"#fb9f3a\"],[0.8888888888888888,\"#fdca26\"],[1.0,\"#f0f921\"]],\"type\":\"histogram2d\"}],\"histogram\":[{\"marker\":{\"pattern\":{\"fillmode\":\"overlay\",\"size\":10,\"solidity\":0.2}},\"type\":\"histogram\"}],\"mesh3d\":[{\"colorbar\":{\"outlinewidth\":0,\"ticks\":\"\"},\"type\":\"mesh3d\"}],\"parcoords\":[{\"line\":{\"colorbar\":{\"outlinewidth\":0,\"ticks\":\"\"}},\"type\":\"parcoords\"}],\"pie\":[{\"automargin\":true,\"type\":\"pie\"}],\"scatter3d\":[{\"line\":{\"colorbar\":{\"outlinewidth\":0,\"ticks\":\"\"}},\"marker\":{\"colorbar\":{\"outlinewidth\":0,\"ticks\":\"\"}},\"type\":\"scatter3d\"}],\"scattercarpet\":[{\"marker\":{\"colorbar\":{\"outlinewidth\":0,\"ticks\":\"\"}},\"type\":\"scattercarpet\"}],\"scattergeo\":[{\"marker\":{\"colorbar\":{\"outlinewidth\":0,\"ticks\":\"\"}},\"type\":\"scattergeo\"}],\"scattergl\":[{\"marker\":{\"colorbar\":{\"outlinewidth\":0,\"ticks\":\"\"}},\"type\":\"scattergl\"}],\"scattermapbox\":[{\"marker\":{\"colorbar\":{\"outlinewidth\":0,\"ticks\":\"\"}},\"type\":\"scattermapbox\"}],\"scatterpolargl\":[{\"marker\":{\"colorbar\":{\"outlinewidth\":0,\"ticks\":\"\"}},\"type\":\"scatterpolargl\"}],\"scatterpolar\":[{\"marker\":{\"colorbar\":{\"outlinewidth\":0,\"ticks\":\"\"}},\"type\":\"scatterpolar\"}],\"scatter\":[{\"marker\":{\"colorbar\":{\"outlinewidth\":0,\"ticks\":\"\"}},\"type\":\"scatter\"}],\"scatterternary\":[{\"marker\":{\"colorbar\":{\"outlinewidth\":0,\"ticks\":\"\"}},\"type\":\"scatterternary\"}],\"surface\":[{\"colorbar\":{\"outlinewidth\":0,\"ticks\":\"\"},\"colorscale\":[[0.0,\"#0d0887\"],[0.1111111111111111,\"#46039f\"],[0.2222222222222222,\"#7201a8\"],[0.3333333333333333,\"#9c179e\"],[0.4444444444444444,\"#bd3786\"],[0.5555555555555556,\"#d8576b\"],[0.6666666666666666,\"#ed7953\"],[0.7777777777777778,\"#fb9f3a\"],[0.8888888888888888,\"#fdca26\"],[1.0,\"#f0f921\"]],\"type\":\"surface\"}],\"table\":[{\"cells\":{\"fill\":{\"color\":\"#EBF0F8\"},\"line\":{\"color\":\"white\"}},\"header\":{\"fill\":{\"color\":\"#C8D4E3\"},\"line\":{\"color\":\"white\"}},\"type\":\"table\"}]},\"layout\":{\"annotationdefaults\":{\"arrowcolor\":\"#2a3f5f\",\"arrowhead\":0,\"arrowwidth\":1},\"autotypenumbers\":\"strict\",\"coloraxis\":{\"colorbar\":{\"outlinewidth\":0,\"ticks\":\"\"}},\"colorscale\":{\"diverging\":[[0,\"#8e0152\"],[0.1,\"#c51b7d\"],[0.2,\"#de77ae\"],[0.3,\"#f1b6da\"],[0.4,\"#fde0ef\"],[0.5,\"#f7f7f7\"],[0.6,\"#e6f5d0\"],[0.7,\"#b8e186\"],[0.8,\"#7fbc41\"],[0.9,\"#4d9221\"],[1,\"#276419\"]],\"sequential\":[[0.0,\"#0d0887\"],[0.1111111111111111,\"#46039f\"],[0.2222222222222222,\"#7201a8\"],[0.3333333333333333,\"#9c179e\"],[0.4444444444444444,\"#bd3786\"],[0.5555555555555556,\"#d8576b\"],[0.6666666666666666,\"#ed7953\"],[0.7777777777777778,\"#fb9f3a\"],[0.8888888888888888,\"#fdca26\"],[1.0,\"#f0f921\"]],\"sequentialminus\":[[0.0,\"#0d0887\"],[0.1111111111111111,\"#46039f\"],[0.2222222222222222,\"#7201a8\"],[0.3333333333333333,\"#9c179e\"],[0.4444444444444444,\"#bd3786\"],[0.5555555555555556,\"#d8576b\"],[0.6666666666666666,\"#ed7953\"],[0.7777777777777778,\"#fb9f3a\"],[0.8888888888888888,\"#fdca26\"],[1.0,\"#f0f921\"]]},\"colorway\":[\"#636efa\",\"#EF553B\",\"#00cc96\",\"#ab63fa\",\"#FFA15A\",\"#19d3f3\",\"#FF6692\",\"#B6E880\",\"#FF97FF\",\"#FECB52\"],\"font\":{\"color\":\"#2a3f5f\"},\"geo\":{\"bgcolor\":\"white\",\"lakecolor\":\"white\",\"landcolor\":\"#E5ECF6\",\"showlakes\":true,\"showland\":true,\"subunitcolor\":\"white\"},\"hoverlabel\":{\"align\":\"left\"},\"hovermode\":\"closest\",\"mapbox\":{\"style\":\"light\"},\"paper_bgcolor\":\"white\",\"plot_bgcolor\":\"#E5ECF6\",\"polar\":{\"angularaxis\":{\"gridcolor\":\"white\",\"linecolor\":\"white\",\"ticks\":\"\"},\"bgcolor\":\"#E5ECF6\",\"radialaxis\":{\"gridcolor\":\"white\",\"linecolor\":\"white\",\"ticks\":\"\"}},\"scene\":{\"xaxis\":{\"backgroundcolor\":\"#E5ECF6\",\"gridcolor\":\"white\",\"gridwidth\":2,\"linecolor\":\"white\",\"showbackground\":true,\"ticks\":\"\",\"zerolinecolor\":\"white\"},\"yaxis\":{\"backgroundcolor\":\"#E5ECF6\",\"gridcolor\":\"white\",\"gridwidth\":2,\"linecolor\":\"white\",\"showbackground\":true,\"ticks\":\"\",\"zerolinecolor\":\"white\"},\"zaxis\":{\"backgroundcolor\":\"#E5ECF6\",\"gridcolor\":\"white\",\"gridwidth\":2,\"linecolor\":\"white\",\"showbackground\":true,\"ticks\":\"\",\"zerolinecolor\":\"white\"}},\"shapedefaults\":{\"line\":{\"color\":\"#2a3f5f\"}},\"ternary\":{\"aaxis\":{\"gridcolor\":\"white\",\"linecolor\":\"white\",\"ticks\":\"\"},\"baxis\":{\"gridcolor\":\"white\",\"linecolor\":\"white\",\"ticks\":\"\"},\"bgcolor\":\"#E5ECF6\",\"caxis\":{\"gridcolor\":\"white\",\"linecolor\":\"white\",\"ticks\":\"\"}},\"title\":{\"x\":0.05},\"xaxis\":{\"automargin\":true,\"gridcolor\":\"white\",\"linecolor\":\"white\",\"ticks\":\"\",\"title\":{\"standoff\":15},\"zerolinecolor\":\"white\",\"zerolinewidth\":2},\"yaxis\":{\"automargin\":true,\"gridcolor\":\"white\",\"linecolor\":\"white\",\"ticks\":\"\",\"title\":{\"standoff\":15},\"zerolinecolor\":\"white\",\"zerolinewidth\":2}}},\"title\":{\"text\":\"\\u0418\\u043d\\u0442\\u0435\\u0440\\u0435\\u0441\\u044b \\u043f\\u043e \\u0432\\u0438\\u0434\\u0430\\u043c \\u0434\\u0435\\u044f\\u0442\\u0435\\u043b\\u044c\\u043d\\u043e\\u0441\\u0442\\u0438 \\u041c\\u0443\\u0436\\u0447\\u0438\\u043d \\u0438 \\u0416\\u0435\\u043d\\u0449\\u0438\\u043d\"}},                        {\"responsive\": true}                    ).then(function(){\n",
       "                            \n",
       "var gd = document.getElementById('879c32b5-08bc-4851-89dd-d88adf1a0d03');\n",
       "var x = new MutationObserver(function (mutations, observer) {{\n",
       "        var display = window.getComputedStyle(gd).display;\n",
       "        if (!display || display === 'none') {{\n",
       "            console.log([gd, 'removed!']);\n",
       "            Plotly.purge(gd);\n",
       "            observer.disconnect();\n",
       "        }}\n",
       "}});\n",
       "\n",
       "// Listen for the removal of the full notebook cells\n",
       "var notebookContainer = gd.closest('#notebook-container');\n",
       "if (notebookContainer) {{\n",
       "    x.observe(notebookContainer, {childList: true});\n",
       "}}\n",
       "\n",
       "// Listen for the clearing of the current output cell\n",
       "var outputEl = gd.closest('.output');\n",
       "if (outputEl) {{\n",
       "    x.observe(outputEl, {childList: true});\n",
       "}}\n",
       "\n",
       "                        })                };                });            </script>        </div>"
      ]
     },
     "metadata": {},
     "output_type": "display_data"
    }
   ],
   "source": [
    "trace1 = go.Bar(x=activities_interested, y=activities[0,:],name='Женщины',marker=dict(color='#FFD700'))\n",
    "\n",
    "trace2 = go.Bar(x=activities_interested,y=activities[1,:],name='Мужчины',marker=dict(color='#8B008B'))\n",
    "\n",
    "data2 = [trace1, trace2]\n",
    "\n",
    "layout = go.Layout(title='Интересы по видам деятельности Мужчин и Женщин',font=dict(size=16),barmode = 'stack',legend=dict(font=dict(size=15)))\n",
    "\n",
    "fig = go.Figure(data=data2, layout=layout)\n",
    "py.iplot(fig, filename='barchart')\n",
    "# Микровывод: Самое популярное - просмотр фильмов"
   ]
  },
  {
   "cell_type": "code",
   "execution_count": 9,
   "id": "870c2ea6",
   "metadata": {
    "scrolled": true
   },
   "outputs": [
    {
     "data": {
      "text/html": [
       "<div>\n",
       "<style scoped>\n",
       "    .dataframe tbody tr th:only-of-type {\n",
       "        vertical-align: middle;\n",
       "    }\n",
       "\n",
       "    .dataframe tbody tr th {\n",
       "        vertical-align: top;\n",
       "    }\n",
       "\n",
       "    .dataframe thead th {\n",
       "        text-align: right;\n",
       "    }\n",
       "</style>\n",
       "<table border=\"1\" class=\"dataframe\">\n",
       "  <thead>\n",
       "    <tr style=\"text-align: right;\">\n",
       "      <th></th>\n",
       "      <th>iid</th>\n",
       "      <th>id</th>\n",
       "      <th>Пол</th>\n",
       "      <th>idg</th>\n",
       "      <th>Условие</th>\n",
       "      <th>Волна</th>\n",
       "      <th>Количество людей, которые встретились в волне</th>\n",
       "      <th>Номер места встречи с партнёром</th>\n",
       "      <th>Номер места, с которого начали</th>\n",
       "      <th>Номер свидания в тот вечер, когда встретил партнера</th>\n",
       "      <th>Идентификационный номер партнера в день мероприятия</th>\n",
       "      <th>pid</th>\n",
       "      <th>Пара</th>\n",
       "      <th>int_corr</th>\n",
       "      <th>Участник и партнер были одной расы?</th>\n",
       "      <th>Возраст партнёра</th>\n",
       "      <th>Раса партнёра</th>\n",
       "      <th>Заявленное предпочтение партнера</th>\n",
       "      <th>pf_o_sin</th>\n",
       "      <th>pf_o_int</th>\n",
       "      <th>pf_o_fun</th>\n",
       "      <th>pf_o_amb</th>\n",
       "      <th>pf_o_sha</th>\n",
       "      <th>Решение партнёра</th>\n",
       "      <th>Оценка партнера по атрибутам</th>\n",
       "      <th>sinc_o</th>\n",
       "      <th>intel_o</th>\n",
       "      <th>fun_o</th>\n",
       "      <th>amb_o</th>\n",
       "      <th>shar_o</th>\n",
       "      <th>like_o</th>\n",
       "      <th>prob_o</th>\n",
       "      <th>met_o</th>\n",
       "      <th>Возраст</th>\n",
       "      <th>Область изучения</th>\n",
       "      <th>Область изучения код</th>\n",
       "      <th>undergra</th>\n",
       "      <th>mn_sat</th>\n",
       "      <th>tuition</th>\n",
       "      <th>Раса</th>\n",
       "      <th>Важность расы</th>\n",
       "      <th>Важность религии</th>\n",
       "      <th>Родом из</th>\n",
       "      <th>zipcode</th>\n",
       "      <th>Доход</th>\n",
       "      <th>Цель</th>\n",
       "      <th>Частота свиданий</th>\n",
       "      <th>Как часто вы выходите в свет (не обязательно на свидания)?</th>\n",
       "      <th>Профессия</th>\n",
       "      <th>Какова ваша предполагаемая карьера?</th>\n",
       "      <th>sports</th>\n",
       "      <th>tvsports</th>\n",
       "      <th>exercise</th>\n",
       "      <th>dining</th>\n",
       "      <th>museums</th>\n",
       "      <th>art</th>\n",
       "      <th>hiking</th>\n",
       "      <th>gaming</th>\n",
       "      <th>clubbing</th>\n",
       "      <th>reading</th>\n",
       "      <th>tv</th>\n",
       "      <th>theater</th>\n",
       "      <th>movies</th>\n",
       "      <th>concerts</th>\n",
       "      <th>music</th>\n",
       "      <th>shopping</th>\n",
       "      <th>yoga</th>\n",
       "      <th>exphappy</th>\n",
       "      <th>expnum</th>\n",
       "      <th>attr1_1</th>\n",
       "      <th>sinc1_1</th>\n",
       "      <th>intel1_1</th>\n",
       "      <th>fun1_1</th>\n",
       "      <th>amb1_1</th>\n",
       "      <th>shar1_1</th>\n",
       "      <th>attr4_1</th>\n",
       "      <th>sinc4_1</th>\n",
       "      <th>intel4_1</th>\n",
       "      <th>fun4_1</th>\n",
       "      <th>amb4_1</th>\n",
       "      <th>shar4_1</th>\n",
       "      <th>attr2_1</th>\n",
       "      <th>sinc2_1</th>\n",
       "      <th>intel2_1</th>\n",
       "      <th>fun2_1</th>\n",
       "      <th>amb2_1</th>\n",
       "      <th>shar2_1</th>\n",
       "      <th>attr3_1</th>\n",
       "      <th>sinc3_1</th>\n",
       "      <th>fun3_1</th>\n",
       "      <th>intel3_1</th>\n",
       "      <th>amb3_1</th>\n",
       "      <th>attr5_1</th>\n",
       "      <th>sinc5_1</th>\n",
       "      <th>intel5_1</th>\n",
       "      <th>fun5_1</th>\n",
       "      <th>amb5_1</th>\n",
       "      <th>dec</th>\n",
       "      <th>attr</th>\n",
       "      <th>sinc</th>\n",
       "      <th>intel</th>\n",
       "      <th>fun</th>\n",
       "      <th>amb</th>\n",
       "      <th>shar</th>\n",
       "      <th>like</th>\n",
       "      <th>prob</th>\n",
       "      <th>met</th>\n",
       "      <th>match_es</th>\n",
       "      <th>attr1_s</th>\n",
       "      <th>sinc1_s</th>\n",
       "      <th>intel1_s</th>\n",
       "      <th>fun1_s</th>\n",
       "      <th>amb1_s</th>\n",
       "      <th>shar1_s</th>\n",
       "      <th>attr3_s</th>\n",
       "      <th>sinc3_s</th>\n",
       "      <th>intel3_s</th>\n",
       "      <th>fun3_s</th>\n",
       "      <th>amb3_s</th>\n",
       "      <th>satis_2</th>\n",
       "      <th>length</th>\n",
       "      <th>numdat_2</th>\n",
       "      <th>attr7_2</th>\n",
       "      <th>sinc7_2</th>\n",
       "      <th>intel7_2</th>\n",
       "      <th>fun7_2</th>\n",
       "      <th>amb7_2</th>\n",
       "      <th>shar7_2</th>\n",
       "      <th>attr1_2</th>\n",
       "      <th>sinc1_2</th>\n",
       "      <th>intel1_2</th>\n",
       "      <th>fun1_2</th>\n",
       "      <th>amb1_2</th>\n",
       "      <th>shar1_2</th>\n",
       "      <th>attr4_2</th>\n",
       "      <th>sinc4_2</th>\n",
       "      <th>intel4_2</th>\n",
       "      <th>fun4_2</th>\n",
       "      <th>amb4_2</th>\n",
       "      <th>shar4_2</th>\n",
       "      <th>attr2_2</th>\n",
       "      <th>sinc2_2</th>\n",
       "      <th>intel2_2</th>\n",
       "      <th>fun2_2</th>\n",
       "      <th>amb2_2</th>\n",
       "      <th>shar2_2</th>\n",
       "      <th>attr3_2</th>\n",
       "      <th>sinc3_2</th>\n",
       "      <th>intel3_2</th>\n",
       "      <th>fun3_2</th>\n",
       "      <th>amb3_2</th>\n",
       "      <th>attr5_2</th>\n",
       "      <th>sinc5_2</th>\n",
       "      <th>intel5_2</th>\n",
       "      <th>fun5_2</th>\n",
       "      <th>amb5_2</th>\n",
       "      <th>you_call</th>\n",
       "      <th>them_cal</th>\n",
       "      <th>date_3</th>\n",
       "      <th>numdat_3</th>\n",
       "      <th>num_in_3</th>\n",
       "      <th>attr1_3</th>\n",
       "      <th>sinc1_3</th>\n",
       "      <th>intel1_3</th>\n",
       "      <th>fun1_3</th>\n",
       "      <th>amb1_3</th>\n",
       "      <th>shar1_3</th>\n",
       "      <th>attr7_3</th>\n",
       "      <th>sinc7_3</th>\n",
       "      <th>intel7_3</th>\n",
       "      <th>fun7_3</th>\n",
       "      <th>amb7_3</th>\n",
       "      <th>shar7_3</th>\n",
       "      <th>attr4_3</th>\n",
       "      <th>sinc4_3</th>\n",
       "      <th>intel4_3</th>\n",
       "      <th>fun4_3</th>\n",
       "      <th>amb4_3</th>\n",
       "      <th>shar4_3</th>\n",
       "      <th>attr2_3</th>\n",
       "      <th>sinc2_3</th>\n",
       "      <th>intel2_3</th>\n",
       "      <th>fun2_3</th>\n",
       "      <th>amb2_3</th>\n",
       "      <th>shar2_3</th>\n",
       "      <th>attr3_3</th>\n",
       "      <th>sinc3_3</th>\n",
       "      <th>intel3_3</th>\n",
       "      <th>fun3_3</th>\n",
       "      <th>amb3_3</th>\n",
       "      <th>attr5_3</th>\n",
       "      <th>sinc5_3</th>\n",
       "      <th>intel5_3</th>\n",
       "      <th>fun5_3</th>\n",
       "      <th>amb5_3</th>\n",
       "    </tr>\n",
       "  </thead>\n",
       "  <tbody>\n",
       "    <tr>\n",
       "      <th>0</th>\n",
       "      <td>1</td>\n",
       "      <td>1.0</td>\n",
       "      <td>Женский</td>\n",
       "      <td>1</td>\n",
       "      <td>Ограниченный выбор</td>\n",
       "      <td>1</td>\n",
       "      <td>10</td>\n",
       "      <td>7</td>\n",
       "      <td>NaN</td>\n",
       "      <td>4</td>\n",
       "      <td>1</td>\n",
       "      <td>11.0</td>\n",
       "      <td>Нет</td>\n",
       "      <td>0.14</td>\n",
       "      <td>Нет</td>\n",
       "      <td>27.0</td>\n",
       "      <td>Американец европейского происхождения</td>\n",
       "      <td>35.0</td>\n",
       "      <td>20.0</td>\n",
       "      <td>20.0</td>\n",
       "      <td>20.0</td>\n",
       "      <td>0.0</td>\n",
       "      <td>5.0</td>\n",
       "      <td>Нет</td>\n",
       "      <td>6.0</td>\n",
       "      <td>8.0</td>\n",
       "      <td>8.0</td>\n",
       "      <td>8.0</td>\n",
       "      <td>8.0</td>\n",
       "      <td>6.0</td>\n",
       "      <td>7.0</td>\n",
       "      <td>4.0</td>\n",
       "      <td>2.0</td>\n",
       "      <td>21.0</td>\n",
       "      <td>Law</td>\n",
       "      <td>Законодательство</td>\n",
       "      <td>NaN</td>\n",
       "      <td>NaN</td>\n",
       "      <td>NaN</td>\n",
       "      <td>Американец азиатского происхождения</td>\n",
       "      <td>2.0</td>\n",
       "      <td>4.0</td>\n",
       "      <td>Chicago</td>\n",
       "      <td>60,521</td>\n",
       "      <td>69,487.00</td>\n",
       "      <td>Чтобы познакомиться с новыми людьми</td>\n",
       "      <td>Почти никогда</td>\n",
       "      <td>Несколько раз в неделю</td>\n",
       "      <td>lawyer</td>\n",
       "      <td>NaN</td>\n",
       "      <td>9.0</td>\n",
       "      <td>2.0</td>\n",
       "      <td>8.0</td>\n",
       "      <td>9.0</td>\n",
       "      <td>1.0</td>\n",
       "      <td>1.0</td>\n",
       "      <td>5.0</td>\n",
       "      <td>1.0</td>\n",
       "      <td>5.0</td>\n",
       "      <td>6.0</td>\n",
       "      <td>9.0</td>\n",
       "      <td>1.0</td>\n",
       "      <td>10.0</td>\n",
       "      <td>10.0</td>\n",
       "      <td>9.0</td>\n",
       "      <td>8.0</td>\n",
       "      <td>1.0</td>\n",
       "      <td>3.0</td>\n",
       "      <td>2.0</td>\n",
       "      <td>15.0</td>\n",
       "      <td>20.0</td>\n",
       "      <td>20.0</td>\n",
       "      <td>15.0</td>\n",
       "      <td>15.0</td>\n",
       "      <td>15.0</td>\n",
       "      <td>NaN</td>\n",
       "      <td>NaN</td>\n",
       "      <td>NaN</td>\n",
       "      <td>NaN</td>\n",
       "      <td>NaN</td>\n",
       "      <td>NaN</td>\n",
       "      <td>35.0</td>\n",
       "      <td>20.0</td>\n",
       "      <td>15.0</td>\n",
       "      <td>20.0</td>\n",
       "      <td>5.0</td>\n",
       "      <td>5.0</td>\n",
       "      <td>6.0</td>\n",
       "      <td>8.0</td>\n",
       "      <td>8.0</td>\n",
       "      <td>8.0</td>\n",
       "      <td>7.0</td>\n",
       "      <td>NaN</td>\n",
       "      <td>NaN</td>\n",
       "      <td>NaN</td>\n",
       "      <td>NaN</td>\n",
       "      <td>NaN</td>\n",
       "      <td>1</td>\n",
       "      <td>6.0</td>\n",
       "      <td>9.0</td>\n",
       "      <td>7.0</td>\n",
       "      <td>7.0</td>\n",
       "      <td>6.0</td>\n",
       "      <td>5.0</td>\n",
       "      <td>7.0</td>\n",
       "      <td>6.0</td>\n",
       "      <td>2.0</td>\n",
       "      <td>4.0</td>\n",
       "      <td>NaN</td>\n",
       "      <td>NaN</td>\n",
       "      <td>NaN</td>\n",
       "      <td>NaN</td>\n",
       "      <td>NaN</td>\n",
       "      <td>NaN</td>\n",
       "      <td>NaN</td>\n",
       "      <td>NaN</td>\n",
       "      <td>NaN</td>\n",
       "      <td>NaN</td>\n",
       "      <td>NaN</td>\n",
       "      <td>6.0</td>\n",
       "      <td>2.0</td>\n",
       "      <td>Слишком мало</td>\n",
       "      <td>NaN</td>\n",
       "      <td>NaN</td>\n",
       "      <td>NaN</td>\n",
       "      <td>NaN</td>\n",
       "      <td>NaN</td>\n",
       "      <td>NaN</td>\n",
       "      <td>19.44</td>\n",
       "      <td>16.67</td>\n",
       "      <td>13.89</td>\n",
       "      <td>22.22</td>\n",
       "      <td>11.11</td>\n",
       "      <td>16.67</td>\n",
       "      <td>NaN</td>\n",
       "      <td>NaN</td>\n",
       "      <td>NaN</td>\n",
       "      <td>NaN</td>\n",
       "      <td>NaN</td>\n",
       "      <td>NaN</td>\n",
       "      <td>NaN</td>\n",
       "      <td>NaN</td>\n",
       "      <td>NaN</td>\n",
       "      <td>NaN</td>\n",
       "      <td>NaN</td>\n",
       "      <td>NaN</td>\n",
       "      <td>6.0</td>\n",
       "      <td>7.0</td>\n",
       "      <td>8.0</td>\n",
       "      <td>7.0</td>\n",
       "      <td>6.0</td>\n",
       "      <td>NaN</td>\n",
       "      <td>NaN</td>\n",
       "      <td>NaN</td>\n",
       "      <td>NaN</td>\n",
       "      <td>NaN</td>\n",
       "      <td>1.0</td>\n",
       "      <td>1.0</td>\n",
       "      <td>0.0</td>\n",
       "      <td>NaN</td>\n",
       "      <td>NaN</td>\n",
       "      <td>15.0</td>\n",
       "      <td>20.0</td>\n",
       "      <td>20.0</td>\n",
       "      <td>15.0</td>\n",
       "      <td>15.0</td>\n",
       "      <td>15.0</td>\n",
       "      <td>NaN</td>\n",
       "      <td>NaN</td>\n",
       "      <td>NaN</td>\n",
       "      <td>NaN</td>\n",
       "      <td>NaN</td>\n",
       "      <td>NaN</td>\n",
       "      <td>NaN</td>\n",
       "      <td>NaN</td>\n",
       "      <td>NaN</td>\n",
       "      <td>NaN</td>\n",
       "      <td>NaN</td>\n",
       "      <td>NaN</td>\n",
       "      <td>NaN</td>\n",
       "      <td>NaN</td>\n",
       "      <td>NaN</td>\n",
       "      <td>NaN</td>\n",
       "      <td>NaN</td>\n",
       "      <td>NaN</td>\n",
       "      <td>5.0</td>\n",
       "      <td>7.0</td>\n",
       "      <td>7.0</td>\n",
       "      <td>7.0</td>\n",
       "      <td>7.0</td>\n",
       "      <td>NaN</td>\n",
       "      <td>NaN</td>\n",
       "      <td>NaN</td>\n",
       "      <td>NaN</td>\n",
       "      <td>NaN</td>\n",
       "    </tr>\n",
       "    <tr>\n",
       "      <th>1</th>\n",
       "      <td>1</td>\n",
       "      <td>1.0</td>\n",
       "      <td>Женский</td>\n",
       "      <td>1</td>\n",
       "      <td>Ограниченный выбор</td>\n",
       "      <td>1</td>\n",
       "      <td>10</td>\n",
       "      <td>7</td>\n",
       "      <td>NaN</td>\n",
       "      <td>3</td>\n",
       "      <td>2</td>\n",
       "      <td>12.0</td>\n",
       "      <td>Нет</td>\n",
       "      <td>0.54</td>\n",
       "      <td>Нет</td>\n",
       "      <td>22.0</td>\n",
       "      <td>Американец европейского происхождения</td>\n",
       "      <td>60.0</td>\n",
       "      <td>0.0</td>\n",
       "      <td>0.0</td>\n",
       "      <td>40.0</td>\n",
       "      <td>0.0</td>\n",
       "      <td>0.0</td>\n",
       "      <td>Нет</td>\n",
       "      <td>7.0</td>\n",
       "      <td>8.0</td>\n",
       "      <td>10.0</td>\n",
       "      <td>7.0</td>\n",
       "      <td>7.0</td>\n",
       "      <td>5.0</td>\n",
       "      <td>8.0</td>\n",
       "      <td>4.0</td>\n",
       "      <td>2.0</td>\n",
       "      <td>21.0</td>\n",
       "      <td>Law</td>\n",
       "      <td>Законодательство</td>\n",
       "      <td>NaN</td>\n",
       "      <td>NaN</td>\n",
       "      <td>NaN</td>\n",
       "      <td>Американец азиатского происхождения</td>\n",
       "      <td>2.0</td>\n",
       "      <td>4.0</td>\n",
       "      <td>Chicago</td>\n",
       "      <td>60,521</td>\n",
       "      <td>69,487.00</td>\n",
       "      <td>Чтобы познакомиться с новыми людьми</td>\n",
       "      <td>Почти никогда</td>\n",
       "      <td>Несколько раз в неделю</td>\n",
       "      <td>lawyer</td>\n",
       "      <td>NaN</td>\n",
       "      <td>9.0</td>\n",
       "      <td>2.0</td>\n",
       "      <td>8.0</td>\n",
       "      <td>9.0</td>\n",
       "      <td>1.0</td>\n",
       "      <td>1.0</td>\n",
       "      <td>5.0</td>\n",
       "      <td>1.0</td>\n",
       "      <td>5.0</td>\n",
       "      <td>6.0</td>\n",
       "      <td>9.0</td>\n",
       "      <td>1.0</td>\n",
       "      <td>10.0</td>\n",
       "      <td>10.0</td>\n",
       "      <td>9.0</td>\n",
       "      <td>8.0</td>\n",
       "      <td>1.0</td>\n",
       "      <td>3.0</td>\n",
       "      <td>2.0</td>\n",
       "      <td>15.0</td>\n",
       "      <td>20.0</td>\n",
       "      <td>20.0</td>\n",
       "      <td>15.0</td>\n",
       "      <td>15.0</td>\n",
       "      <td>15.0</td>\n",
       "      <td>NaN</td>\n",
       "      <td>NaN</td>\n",
       "      <td>NaN</td>\n",
       "      <td>NaN</td>\n",
       "      <td>NaN</td>\n",
       "      <td>NaN</td>\n",
       "      <td>35.0</td>\n",
       "      <td>20.0</td>\n",
       "      <td>15.0</td>\n",
       "      <td>20.0</td>\n",
       "      <td>5.0</td>\n",
       "      <td>5.0</td>\n",
       "      <td>6.0</td>\n",
       "      <td>8.0</td>\n",
       "      <td>8.0</td>\n",
       "      <td>8.0</td>\n",
       "      <td>7.0</td>\n",
       "      <td>NaN</td>\n",
       "      <td>NaN</td>\n",
       "      <td>NaN</td>\n",
       "      <td>NaN</td>\n",
       "      <td>NaN</td>\n",
       "      <td>1</td>\n",
       "      <td>7.0</td>\n",
       "      <td>8.0</td>\n",
       "      <td>7.0</td>\n",
       "      <td>8.0</td>\n",
       "      <td>5.0</td>\n",
       "      <td>6.0</td>\n",
       "      <td>7.0</td>\n",
       "      <td>5.0</td>\n",
       "      <td>1.0</td>\n",
       "      <td>4.0</td>\n",
       "      <td>NaN</td>\n",
       "      <td>NaN</td>\n",
       "      <td>NaN</td>\n",
       "      <td>NaN</td>\n",
       "      <td>NaN</td>\n",
       "      <td>NaN</td>\n",
       "      <td>NaN</td>\n",
       "      <td>NaN</td>\n",
       "      <td>NaN</td>\n",
       "      <td>NaN</td>\n",
       "      <td>NaN</td>\n",
       "      <td>6.0</td>\n",
       "      <td>2.0</td>\n",
       "      <td>Слишком мало</td>\n",
       "      <td>NaN</td>\n",
       "      <td>NaN</td>\n",
       "      <td>NaN</td>\n",
       "      <td>NaN</td>\n",
       "      <td>NaN</td>\n",
       "      <td>NaN</td>\n",
       "      <td>19.44</td>\n",
       "      <td>16.67</td>\n",
       "      <td>13.89</td>\n",
       "      <td>22.22</td>\n",
       "      <td>11.11</td>\n",
       "      <td>16.67</td>\n",
       "      <td>NaN</td>\n",
       "      <td>NaN</td>\n",
       "      <td>NaN</td>\n",
       "      <td>NaN</td>\n",
       "      <td>NaN</td>\n",
       "      <td>NaN</td>\n",
       "      <td>NaN</td>\n",
       "      <td>NaN</td>\n",
       "      <td>NaN</td>\n",
       "      <td>NaN</td>\n",
       "      <td>NaN</td>\n",
       "      <td>NaN</td>\n",
       "      <td>6.0</td>\n",
       "      <td>7.0</td>\n",
       "      <td>8.0</td>\n",
       "      <td>7.0</td>\n",
       "      <td>6.0</td>\n",
       "      <td>NaN</td>\n",
       "      <td>NaN</td>\n",
       "      <td>NaN</td>\n",
       "      <td>NaN</td>\n",
       "      <td>NaN</td>\n",
       "      <td>1.0</td>\n",
       "      <td>1.0</td>\n",
       "      <td>0.0</td>\n",
       "      <td>NaN</td>\n",
       "      <td>NaN</td>\n",
       "      <td>15.0</td>\n",
       "      <td>20.0</td>\n",
       "      <td>20.0</td>\n",
       "      <td>15.0</td>\n",
       "      <td>15.0</td>\n",
       "      <td>15.0</td>\n",
       "      <td>NaN</td>\n",
       "      <td>NaN</td>\n",
       "      <td>NaN</td>\n",
       "      <td>NaN</td>\n",
       "      <td>NaN</td>\n",
       "      <td>NaN</td>\n",
       "      <td>NaN</td>\n",
       "      <td>NaN</td>\n",
       "      <td>NaN</td>\n",
       "      <td>NaN</td>\n",
       "      <td>NaN</td>\n",
       "      <td>NaN</td>\n",
       "      <td>NaN</td>\n",
       "      <td>NaN</td>\n",
       "      <td>NaN</td>\n",
       "      <td>NaN</td>\n",
       "      <td>NaN</td>\n",
       "      <td>NaN</td>\n",
       "      <td>5.0</td>\n",
       "      <td>7.0</td>\n",
       "      <td>7.0</td>\n",
       "      <td>7.0</td>\n",
       "      <td>7.0</td>\n",
       "      <td>NaN</td>\n",
       "      <td>NaN</td>\n",
       "      <td>NaN</td>\n",
       "      <td>NaN</td>\n",
       "      <td>NaN</td>\n",
       "    </tr>\n",
       "  </tbody>\n",
       "</table>\n",
       "</div>"
      ],
      "text/plain": [
       "   iid   id      Пол  idg             Условие  Волна  \\\n",
       "0    1  1.0  Женский    1  Ограниченный выбор      1   \n",
       "1    1  1.0  Женский    1  Ограниченный выбор      1   \n",
       "\n",
       "   Количество людей, которые встретились в волне  \\\n",
       "0                                             10   \n",
       "1                                             10   \n",
       "\n",
       "   Номер места встречи с партнёром  Номер места, с которого начали  \\\n",
       "0                                7                             NaN   \n",
       "1                                7                             NaN   \n",
       "\n",
       "   Номер свидания в тот вечер, когда встретил партнера  \\\n",
       "0                                                  4     \n",
       "1                                                  3     \n",
       "\n",
       "   Идентификационный номер партнера в день мероприятия   pid Пара  int_corr  \\\n",
       "0                                                  1    11.0  Нет      0.14   \n",
       "1                                                  2    12.0  Нет      0.54   \n",
       "\n",
       "  Участник и партнер были одной расы?  Возраст партнёра  \\\n",
       "0                                 Нет              27.0   \n",
       "1                                 Нет              22.0   \n",
       "\n",
       "                           Раса партнёра  Заявленное предпочтение партнера  \\\n",
       "0  Американец европейского происхождения                              35.0   \n",
       "1  Американец европейского происхождения                              60.0   \n",
       "\n",
       "   pf_o_sin  pf_o_int  pf_o_fun  pf_o_amb  pf_o_sha Решение партнёра  \\\n",
       "0      20.0      20.0      20.0       0.0       5.0              Нет   \n",
       "1       0.0       0.0      40.0       0.0       0.0              Нет   \n",
       "\n",
       "   Оценка партнера по атрибутам  sinc_o  intel_o  fun_o  amb_o  shar_o  \\\n",
       "0                           6.0     8.0      8.0    8.0    8.0     6.0   \n",
       "1                           7.0     8.0     10.0    7.0    7.0     5.0   \n",
       "\n",
       "   like_o  prob_o  met_o  Возраст Область изучения Область изучения код  \\\n",
       "0     7.0     4.0    2.0     21.0              Law     Законодательство   \n",
       "1     8.0     4.0    2.0     21.0              Law     Законодательство   \n",
       "\n",
       "  undergra mn_sat tuition                                 Раса  Важность расы  \\\n",
       "0      NaN    NaN     NaN  Американец азиатского происхождения            2.0   \n",
       "1      NaN    NaN     NaN  Американец азиатского происхождения            2.0   \n",
       "\n",
       "   Важность религии Родом из zipcode      Доход  \\\n",
       "0               4.0  Chicago  60,521  69,487.00   \n",
       "1               4.0  Chicago  60,521  69,487.00   \n",
       "\n",
       "                                  Цель Частота свиданий  \\\n",
       "0  Чтобы познакомиться с новыми людьми    Почти никогда   \n",
       "1  Чтобы познакомиться с новыми людьми    Почти никогда   \n",
       "\n",
       "  Как часто вы выходите в свет (не обязательно на свидания)? Профессия  \\\n",
       "0                             Несколько раз в неделю            lawyer   \n",
       "1                             Несколько раз в неделю            lawyer   \n",
       "\n",
       "  Какова ваша предполагаемая карьера?  sports  tvsports  exercise  dining  \\\n",
       "0                                 NaN     9.0       2.0       8.0     9.0   \n",
       "1                                 NaN     9.0       2.0       8.0     9.0   \n",
       "\n",
       "   museums  art  hiking  gaming  clubbing  reading   tv  theater  movies  \\\n",
       "0      1.0  1.0     5.0     1.0       5.0      6.0  9.0      1.0    10.0   \n",
       "1      1.0  1.0     5.0     1.0       5.0      6.0  9.0      1.0    10.0   \n",
       "\n",
       "   concerts  music  shopping  yoga  exphappy  expnum  attr1_1  sinc1_1  \\\n",
       "0      10.0    9.0       8.0   1.0       3.0     2.0     15.0     20.0   \n",
       "1      10.0    9.0       8.0   1.0       3.0     2.0     15.0     20.0   \n",
       "\n",
       "   intel1_1  fun1_1  amb1_1  shar1_1  attr4_1  sinc4_1  intel4_1  fun4_1  \\\n",
       "0      20.0    15.0    15.0     15.0      NaN      NaN       NaN     NaN   \n",
       "1      20.0    15.0    15.0     15.0      NaN      NaN       NaN     NaN   \n",
       "\n",
       "   amb4_1  shar4_1  attr2_1  sinc2_1  intel2_1  fun2_1  amb2_1  shar2_1  \\\n",
       "0     NaN      NaN     35.0     20.0      15.0    20.0     5.0      5.0   \n",
       "1     NaN      NaN     35.0     20.0      15.0    20.0     5.0      5.0   \n",
       "\n",
       "   attr3_1  sinc3_1  fun3_1  intel3_1  amb3_1  attr5_1  sinc5_1  intel5_1  \\\n",
       "0      6.0      8.0     8.0       8.0     7.0      NaN      NaN       NaN   \n",
       "1      6.0      8.0     8.0       8.0     7.0      NaN      NaN       NaN   \n",
       "\n",
       "   fun5_1  amb5_1  dec  attr  sinc  intel  fun  amb  shar  like  prob  met  \\\n",
       "0     NaN     NaN    1   6.0   9.0    7.0  7.0  6.0   5.0   7.0   6.0  2.0   \n",
       "1     NaN     NaN    1   7.0   8.0    7.0  8.0  5.0   6.0   7.0   5.0  1.0   \n",
       "\n",
       "   match_es  attr1_s  sinc1_s  intel1_s  fun1_s  amb1_s  shar1_s  attr3_s  \\\n",
       "0       4.0      NaN      NaN       NaN     NaN     NaN      NaN      NaN   \n",
       "1       4.0      NaN      NaN       NaN     NaN     NaN      NaN      NaN   \n",
       "\n",
       "   sinc3_s  intel3_s  fun3_s  amb3_s  satis_2  length      numdat_2  attr7_2  \\\n",
       "0      NaN       NaN     NaN     NaN      6.0     2.0  Слишком мало      NaN   \n",
       "1      NaN       NaN     NaN     NaN      6.0     2.0  Слишком мало      NaN   \n",
       "\n",
       "   sinc7_2  intel7_2  fun7_2  amb7_2  shar7_2  attr1_2  sinc1_2  intel1_2  \\\n",
       "0      NaN       NaN     NaN     NaN      NaN    19.44    16.67     13.89   \n",
       "1      NaN       NaN     NaN     NaN      NaN    19.44    16.67     13.89   \n",
       "\n",
       "   fun1_2  amb1_2  shar1_2  attr4_2  sinc4_2  intel4_2  fun4_2  amb4_2  \\\n",
       "0   22.22   11.11    16.67      NaN      NaN       NaN     NaN     NaN   \n",
       "1   22.22   11.11    16.67      NaN      NaN       NaN     NaN     NaN   \n",
       "\n",
       "   shar4_2  attr2_2  sinc2_2  intel2_2  fun2_2  amb2_2  shar2_2  attr3_2  \\\n",
       "0      NaN      NaN      NaN       NaN     NaN     NaN      NaN      6.0   \n",
       "1      NaN      NaN      NaN       NaN     NaN     NaN      NaN      6.0   \n",
       "\n",
       "   sinc3_2  intel3_2  fun3_2  amb3_2  attr5_2  sinc5_2  intel5_2  fun5_2  \\\n",
       "0      7.0       8.0     7.0     6.0      NaN      NaN       NaN     NaN   \n",
       "1      7.0       8.0     7.0     6.0      NaN      NaN       NaN     NaN   \n",
       "\n",
       "   amb5_2  you_call  them_cal  date_3  numdat_3  num_in_3  attr1_3  sinc1_3  \\\n",
       "0     NaN       1.0       1.0     0.0       NaN       NaN     15.0     20.0   \n",
       "1     NaN       1.0       1.0     0.0       NaN       NaN     15.0     20.0   \n",
       "\n",
       "   intel1_3  fun1_3  amb1_3  shar1_3  attr7_3  sinc7_3  intel7_3  fun7_3  \\\n",
       "0      20.0    15.0    15.0     15.0      NaN      NaN       NaN     NaN   \n",
       "1      20.0    15.0    15.0     15.0      NaN      NaN       NaN     NaN   \n",
       "\n",
       "   amb7_3  shar7_3  attr4_3  sinc4_3  intel4_3  fun4_3  amb4_3  shar4_3  \\\n",
       "0     NaN      NaN      NaN      NaN       NaN     NaN     NaN      NaN   \n",
       "1     NaN      NaN      NaN      NaN       NaN     NaN     NaN      NaN   \n",
       "\n",
       "   attr2_3  sinc2_3  intel2_3  fun2_3  amb2_3  shar2_3  attr3_3  sinc3_3  \\\n",
       "0      NaN      NaN       NaN     NaN     NaN      NaN      5.0      7.0   \n",
       "1      NaN      NaN       NaN     NaN     NaN      NaN      5.0      7.0   \n",
       "\n",
       "   intel3_3  fun3_3  amb3_3  attr5_3  sinc5_3  intel5_3  fun5_3  amb5_3  \n",
       "0       7.0     7.0     7.0      NaN      NaN       NaN     NaN     NaN  \n",
       "1       7.0     7.0     7.0      NaN      NaN       NaN     NaN     NaN  "
      ]
     },
     "execution_count": 9,
     "metadata": {},
     "output_type": "execute_result"
    }
   ],
   "source": [
    "# Поскольку с шифрами и английским мне работать не удобно, я переименовала те данные, с которыми собиралась работать\n",
    "pd.options.display.max_columns = None\n",
    "\n",
    "Speed_DD.rename(columns={\"gender\": \"Пол\", \n",
    "                    \"condtn\":\"Условие\",\n",
    "                    \"age\":\"Возраст\",\n",
    "                    \"wave\":\"Волна\",\n",
    "                    \"field\":\"Область изучения\",\n",
    "                    \"field_cd\":\"Область изучения код\",\n",
    "                    \"age_o\":\"Возраст партнёра\",\n",
    "                    \"race_o\":\"Раса партнёра\",\n",
    "                    \"race\":\"Раса\",    \n",
    "                    \"pf_o_att\":\"Заявленное предпочтение партнера\",\n",
    "                    \"dec_o\":\"Решение партнёра\",\n",
    "                    \"attr_o\":\"Оценка партнера по атрибутам\",\n",
    "                    \"imprace\":\"Важность расы\",\n",
    "                    \"imprelig\":\"Важность религии\",\n",
    "                    \"from\":\"Родом из\",\n",
    "                    \"goal\":\"Цель\",\n",
    "                    \"go_out\":\"Как часто вы выходите в свет (не обязательно на свидания)?\",\n",
    "                    \"career_c\":\"Какова ваша предполагаемая карьера?\",\n",
    "                    \"career\":\"Профессия\",    \n",
    "                    \"income\":\"Доход\", \n",
    "                    \"match\":\"Пара\",\n",
    "                    \"round\":\"Количество людей, которые встретились в волне\", \n",
    "                    \"partner\":\"Идентификационный номер партнера в день мероприятия\",\n",
    "                    \"position\":\"Номер места встречи с партнёром\",\n",
    "                    \"positin1\":\"Номер места, с которого начали\",\n",
    "                    \"order\":\"Номер свидания в тот вечер, когда встретил партнера\",\n",
    "                    \"samerace\":\"Участник и партнер были одной расы?\",     \n",
    "                    \"date\":\"Частота свиданий\"}, inplace=True)\n",
    "\n",
    "race_replacement={1:\"Афроамериканец\",\n",
    "                 2: \"Американец европейского происхождения\",\n",
    "                 3: \"Латиноамериканец\",\n",
    "                 4: \"Американец азиатского происхождения\",\n",
    "                 5: \"Коренной американец\",\n",
    "                 6: \"Другое\"}\n",
    "\n",
    "field_replacement={1:\"Законодательство\",\n",
    "                   2:\"Математика\",\n",
    "                   3:\"Социальные науки, психология\",\n",
    "                   4:\"Медицинские науки, фармацевтика и биотехнологии\",\n",
    "                   5:\"Инженерия\",\n",
    "                   6:\"Английский язык, творческое письмо, журналистика\",\n",
    "                   7:\"История, религия, философия\",\n",
    "                   8:\"Бизнес, экономика, финансы\",\n",
    "                   9:\"Образование\",\n",
    "                   10:\"Биологические науки, химия, физика\",\n",
    "                   11:\"Социальная работа\",\n",
    "                   12:\"Студент, не определился\",\n",
    "                   13:\"Политология, международные отношения\",\n",
    "                   14:\"Фильм\",\n",
    "                   15:\"Изящные искусства\",\n",
    "                   16:\"Языки\",\n",
    "                   17:\"Архитектура\",\n",
    "                   18:\"Другое\"}\n",
    "\n",
    "career_replacement={1: \"Юрист\",\n",
    "                   2:  \"Академик, исследователь\",\n",
    "                   3:  \"Психолог\",\n",
    "                   4:  \"Доктор, медицина\",\n",
    "                   5:  \"Инженер\",\n",
    "                   6:  \"Творчество, развлечение\",\n",
    "                   7:  \"Банковское дело, консалтинг, финансы, маркетинг, бизнес, генеральный директор, предприниматель, администратор\",\n",
    "                   8:  \"Недвижимость\",\n",
    "                   9:  \"Международные, гуманитарные вопросы\",\n",
    "                   10: \"Не определился\",\n",
    "                   11: \"Социальная работа\",\n",
    "                   12: \"Патология речи\",\n",
    "                   13: \"Политика\",\n",
    "                   14: \"Профессиональный спорт\",\n",
    "                   15: \"Другое\",\n",
    "                   16: \"Журналистика\",\n",
    "                   17: \"Архитектура\"}\n",
    "\n",
    "decision_replacement={1:\"Да\", 0:\"Нет\"}\n",
    "length_replacement={1:\"Слишком мало\",\n",
    "                   2: \"Слишком много\",\n",
    "                   3: \"В самый раз\"}\n",
    "goal_replacement={1:\"Фан-встреча\",\n",
    "                 2: \"Чтобы познакомиться с новыми людьми\",\n",
    "                 3: \"Назначить свидание\",\n",
    "                 4:\"Ищу серьезные отношения\",\n",
    "                 5:\"Сказать, что я сделал это\",\n",
    "                 6: \"Другое\"}\n",
    "frequency_replacement={1:\"Несколько раз в неделю\",\n",
    "                      2: \"Два раза в неделю\",\n",
    "                      3: \"Раз в неделю\",\n",
    "                      4: \"Два раза в месяц\",\n",
    "                      5: \"Раз в месяц\",\n",
    "                      6: \"Несколько раз в год\",\n",
    "                      7: \"Почти никогда\"}\n",
    "\n",
    "\n",
    "Speed_DD[\"Пол\"].replace({0:\"Женский\",1:\"Мужской\"}, inplace=True)\n",
    "Speed_DD[\"Условие\"].replace({1:\"Ограниченный выбор\", 2:\"Большой выбор\"}, inplace=True)\n",
    "Speed_DD[\"Пара\"].replace({1:\"Да\",0:\"Нет\"}, inplace=True)\n",
    "Speed_DD[\"Участник и партнер были одной расы?\"].replace({1:\"Да\",0:\"Нет\"},inplace=True)\n",
    "Speed_DD[\"Раса партнёра\"].replace(race_replacement, inplace=True)\n",
    "Speed_DD[\"Решение партнёра\"].replace(decision_replacement, inplace=True)\n",
    "Speed_DD[\"Область изучения код\"].replace(field_replacement, inplace=True)\n",
    "Speed_DD[\"Раса\"].replace(race_replacement, inplace=True)\n",
    "Speed_DD[\"Какова ваша предполагаемая карьера?\"].replace(career_replacement, inplace=True)\n",
    "# Speed_DD[\"length\"].replace(length_replacement, inplace=True)\n",
    "Speed_DD[\"numdat_2\"].replace({1:\"Слишком мало\", 2: \"Слишком много\", 3: \"В самый раз\"}, inplace=True)\n",
    "#Speed_DD[\"date_3\"].replace({1:\"Да\",0:\"Нет\", 0:np.nan}, inplace=True)\n",
    "Speed_DD[\"Цель\"].replace(goal_replacement, inplace=True)\n",
    "Speed_DD[\"Частота свиданий\"].replace(frequency_replacement, inplace=True)\n",
    "Speed_DD[\"Как часто вы выходите в свет (не обязательно на свидания)?\"].replace(frequency_replacement, inplace=True)\n",
    "\n",
    "Speed_DD[:2]\n",
    "\n",
    "  "
   ]
  },
  {
   "cell_type": "code",
   "execution_count": 10,
   "id": "d7adbbfd",
   "metadata": {},
   "outputs": [
    {
     "name": "stdout",
     "output_type": "stream",
     "text": [
      "<class 'pandas.core.frame.DataFrame'>\n",
      "RangeIndex: 8378 entries, 0 to 8377\n",
      "Columns: 195 entries, iid to amb5_3\n",
      "dtypes: float64(166), int64(8), object(21)\n",
      "memory usage: 12.5+ MB\n"
     ]
    }
   ],
   "source": [
    "Speed_DD.info()"
   ]
  },
  {
   "cell_type": "code",
   "execution_count": 11,
   "id": "5bab3bba",
   "metadata": {},
   "outputs": [
    {
     "data": {
      "text/plain": [
       "22"
      ]
     },
     "execution_count": 11,
     "metadata": {},
     "output_type": "execute_result"
    }
   ],
   "source": [
    "Speed_DD[\"Количество людей, которые встретились в волне\"].max() # максимальное значение\n",
    "# Микровывод: Максимально число человек, которые могут встретиться в волне 22"
   ]
  },
  {
   "cell_type": "code",
   "execution_count": 12,
   "id": "951ca20a",
   "metadata": {},
   "outputs": [
    {
     "data": {
      "text/plain": [
       "5"
      ]
     },
     "execution_count": 12,
     "metadata": {},
     "output_type": "execute_result"
    }
   ],
   "source": [
    "Speed_DD[\"Количество людей, которые встретились в волне\"].min() # минимальное значение\n",
    "# Микровывод: Минимально число человек, которые могут встретиться в волне 5"
   ]
  },
  {
   "cell_type": "code",
   "execution_count": 13,
   "id": "4004e55b",
   "metadata": {},
   "outputs": [
    {
     "data": {
      "text/plain": [
       "1657    18.0\n",
       "1717    18.0\n",
       "1727    18.0\n",
       "1707    18.0\n",
       "1677    18.0\n",
       "        ... \n",
       "8271     NaN\n",
       "8293     NaN\n",
       "8315     NaN\n",
       "8337     NaN\n",
       "8359     NaN\n",
       "Name: Возраст партнёра, Length: 8378, dtype: float64"
      ]
     },
     "execution_count": 13,
     "metadata": {},
     "output_type": "execute_result"
    }
   ],
   "source": [
    "Speed_DD[\"Возраст партнёра\"].sort_values() #минимальный и максимальный разброс"
   ]
  },
  {
   "cell_type": "code",
   "execution_count": 14,
   "id": "b1d82be5",
   "metadata": {},
   "outputs": [
    {
     "data": {
      "text/plain": [
       "<AxesSubplot:>"
      ]
     },
     "execution_count": 14,
     "metadata": {},
     "output_type": "execute_result"
    },
    {
     "data": {
      "image/png": "[encoded data removed]",
      "text/plain": [
       "<Figure size 432x288 with 1 Axes>"
      ]
     },
     "metadata": {
      "needs_background": "light"
     },
     "output_type": "display_data"
    }
   ],
   "source": [
    "Speed_DD[\"Возраст партнёра\"].hist(color = ['#C71585']) # визуализируем\n",
    "# Микровывод: Чаще всего встречались испытуемые в возрасте от 20 до 30 лет."
   ]
  },
  {
   "cell_type": "code",
   "execution_count": 15,
   "id": "14976c2c",
   "metadata": {},
   "outputs": [
    {
     "data": {
      "text/plain": [
       "count    8274.000000\n",
       "mean       26.364999\n",
       "std         3.563648\n",
       "min        18.000000\n",
       "25%        24.000000\n",
       "50%        26.000000\n",
       "75%        28.000000\n",
       "max        55.000000\n",
       "Name: Возраст партнёра, dtype: float64"
      ]
     },
     "execution_count": 15,
     "metadata": {},
     "output_type": "execute_result"
    }
   ],
   "source": [
    "Speed_DD['Возраст партнёра'].describe()\n",
    "# Микровывод: Самый младший из учасников был в возрасте 18 лет, а самый старший - 55 лет."
   ]
  },
  {
   "cell_type": "code",
   "execution_count": 16,
   "id": "d11e22e8",
   "metadata": {},
   "outputs": [
    {
     "data": {
      "text/plain": [
       "0    27.0\n",
       "Name: Возраст партнёра, dtype: float64"
      ]
     },
     "execution_count": 16,
     "metadata": {},
     "output_type": "execute_result"
    }
   ],
   "source": [
    "Speed_DD['Возраст партнёра'].mode() #одномодальное, т.к. у нас 1 мода (узнали после вывода)\n",
    "# Микровывод:Самый популярный возраст для свиданий - 27 лет."
   ]
  },
  {
   "cell_type": "code",
   "execution_count": 17,
   "id": "3295f74f",
   "metadata": {},
   "outputs": [
    {
     "data": {
      "text/plain": [
       "<AxesSubplot:xlabel='Возраст партнёра'>"
      ]
     },
     "execution_count": 17,
     "metadata": {},
     "output_type": "execute_result"
    },
    {
     "data": {
      "image/png": "[encoded data removed]",
      "text/plain": [
       "<Figure size 432x288 with 1 Axes>"
      ]
     },
     "metadata": {
      "needs_background": "light"
     },
     "output_type": "display_data"
    }
   ],
   "source": [
    "# Группировка участников по полу и возрасту \n",
    "Speed_DD.groupby('Возраст партнёра')['Пол'].value_counts().unstack().plot(kind = 'bar', color = ['blue', 'yellow'])\n",
    "# Микровывод: Больше всего мужчин встречалось в возрасте 23 лет, а женщин - 27 лет."
   ]
  },
  {
   "cell_type": "code",
   "execution_count": 18,
   "id": "e1db1f89",
   "metadata": {},
   "outputs": [
    {
     "data": {
      "text/plain": [
       "<AxesSubplot:xlabel='Раса партнёра'>"
      ]
     },
     "execution_count": 18,
     "metadata": {},
     "output_type": "execute_result"
    },
    {
     "data": {
      "image/png": "[encoded data removed]",
      "text/plain": [
       "<Figure size 432x288 with 1 Axes>"
      ]
     },
     "metadata": {
      "needs_background": "light"
     },
     "output_type": "display_data"
    }
   ],
   "source": [
    "# Группировка участников по полу и расе \n",
    "Speed_DD.groupby('Раса партнёра')['Пол'].value_counts().unstack().plot(kind = 'bar',color = ['#8B008B', 'yellow'], stacked = True)\n",
    "# Микровывод:Самой распространённой рассой (как для мужчин, так и для женщин) стала \"американец европейского происхождения\""
   ]
  },
  {
   "cell_type": "code",
   "execution_count": 19,
   "id": "c6bea159",
   "metadata": {},
   "outputs": [
    {
     "data": {
      "text/plain": [
       "<AxesSubplot:title={'center':'Насколько важна раса?'}, ylabel='None'>"
      ]
     },
     "execution_count": 19,
     "metadata": {},
     "output_type": "execute_result"
    },
    {
     "data": {
      "image/png": "[encoded data removed]",
      "text/plain": [
       "<Figure size 432x288 with 1 Axes>"
      ]
     },
     "metadata": {},
     "output_type": "display_data"
    }
   ],
   "source": [
    "# Насколько важна раса?\n",
    "colors = ['#CD5C5C', '#F08080', '#FA8072', '#FFA07A', '#DC143C', 'red','#B22222', '#8B0000','#FFA07A', '#FF8C00']\n",
    "Speed_DD.groupby(\"Важность расы\").size().plot.pie(y=\"iid\", autopct='%1.0f%%', colors = colors,\n",
    "                                                  explode = [0, 0.1, 0, 0, 0, 0, 0, 0, 0, 0, 0], title = 'Насколько важна раса?')\n",
    "# Микровывод: Раса при выборе партнёра не важна"
   ]
  },
  {
   "cell_type": "code",
   "execution_count": 20,
   "id": "4a73e207",
   "metadata": {},
   "outputs": [
    {
     "data": {
      "text/plain": [
       "<AxesSubplot:title={'center':'Насколько важна религия?'}, ylabel='None'>"
      ]
     },
     "execution_count": 20,
     "metadata": {},
     "output_type": "execute_result"
    },
    {
     "data": {
      "image/png": "[encoded data removed]",
      "text/plain": [
       "<Figure size 432x288 with 1 Axes>"
      ]
     },
     "metadata": {},
     "output_type": "display_data"
    }
   ],
   "source": [
    "# Насколько важна религия?\n",
    "colors = ['#E0FFFF', '#AFEEEE', '#7FFFD4', '#40E0D0', '#5F9EA0', '#00BFFF','#7B68EE', '#0000CD','#000080', '#483D8B']\n",
    "Speed_DD.groupby(\"Важность религии\").size().plot.pie(y=\"iid\",autopct='%1.0f%%',colors = colors, \n",
    "                                                     explode = [0.1, 0, 0, 0, 0, 0, 0, 0, 0, 0], title = 'Насколько важна религия?')\n",
    "# Микровывод: Религия при выборе партнёра не важна"
   ]
  },
  {
   "cell_type": "code",
   "execution_count": 21,
   "id": "9ba46219",
   "metadata": {},
   "outputs": [
    {
     "data": {
      "text/plain": [
       "551"
      ]
     },
     "execution_count": 21,
     "metadata": {},
     "output_type": "execute_result"
    }
   ],
   "source": [
    "# Сколько человек участвовало в исследовании?\n",
    "l=(Speed_DD.groupby(\"iid\").count())\n",
    "len(l)\n",
    "# Микровывод: Всего в исследовании участвовало 551 человек"
   ]
  },
  {
   "cell_type": "code",
   "execution_count": 22,
   "id": "374e2266",
   "metadata": {},
   "outputs": [
    {
     "data": {
      "text/plain": [
       "<AxesSubplot:title={'center':'Соотношение большого и ограниченного выбора'}, ylabel='iid'>"
      ]
     },
     "execution_count": 22,
     "metadata": {},
     "output_type": "execute_result"
    },
    {
     "data": {
      "image/png": "[encoded data removed]",
      "text/plain": [
       "<Figure size 432x288 with 1 Axes>"
      ]
     },
     "metadata": {},
     "output_type": "display_data"
    }
   ],
   "source": [
    "# Соотношение большого и ограниченного выбора \n",
    "colors = ['#7FFFD4', '#FFC0CB']\n",
    "# номер цветов искала на этом сайте https://colorscheme.ru/html-colors.html\n",
    "(Speed_DD.groupby(\"Условие\")[[\"iid\"]].count()).plot.pie(y=\"iid\", autopct='%1.0f%%',colors = colors, \n",
    "                                                        explode = [0, 0.3], title = 'Соотношение большого и ограниченного выбора', \n",
    "                                                        shadow = True)\n",
    "# Микровывод: У 83% опрошенных был большой выбор партнёров"
   ]
  },
  {
   "cell_type": "code",
   "execution_count": 23,
   "id": "b32668f5",
   "metadata": {},
   "outputs": [
    {
     "data": {
      "text/plain": [
       "<matplotlib.legend.Legend at 0x24222666bb0>"
      ]
     },
     "execution_count": 23,
     "metadata": {},
     "output_type": "execute_result"
    },
    {
     "data": {
      "image/png": "[encoded data removed]",
      "text/plain": [
       "<Figure size 432x288 with 1 Axes>"
      ]
     },
     "metadata": {},
     "output_type": "display_data"
    }
   ],
   "source": [
    "colors = ['#FFD700', '#FFFF00', '#FFE4B5', '#F0E68C', '#BDB76B']\n",
    "(Speed_DD.groupby([\"Раса\"])[[\"Пара\", \"iid\"]].count().sort_values(\"Пара\", ascending=False).\n",
    " head(100)).plot.pie(y=\"iid\", autopct='%1.0f%%', colors = colors, \n",
    "                     explode = [0.1, 0, 0, 0, 0], title = 'Люди какой расы чаще находили пару?', shadow = True)\n",
    "plt.legend(bbox_to_anchor = (1.5, 0.5))\n",
    "# Микровывод: Чаще всего пару находили американцы европейского происхождения (57%)"
   ]
  },
  {
   "cell_type": "code",
   "execution_count": 24,
   "id": "d0750d77",
   "metadata": {},
   "outputs": [
    {
     "data": {
      "text/plain": [
       "<AxesSubplot:xlabel='expnum'>"
      ]
     },
     "execution_count": 24,
     "metadata": {},
     "output_type": "execute_result"
    },
    {
     "data": {
      "image/png": "[encoded data removed]",
      "text/plain": [
       "<Figure size 432x288 with 1 Axes>"
      ]
     },
     "metadata": {
      "needs_background": "light"
     },
     "output_type": "display_data"
    }
   ],
   "source": [
    "# Группировка участников по полу и ожиданием (Из 20 человек, с которыми вы встретитесь, сколько, по вашему мнению, будут заинтересованы в том, чтобы встречаться с вами?)\n",
    "Speed_DD.groupby(\"expnum\")[\"Пол\"].value_counts().unstack().plot(kind = 'bar',color = ['#8A2BE2', '#FFFF00'])"
   ]
  },
  {
   "cell_type": "code",
   "execution_count": 25,
   "id": "704c9f3e",
   "metadata": {},
   "outputs": [
    {
     "data": {
      "text/html": [
       "<div>\n",
       "<style scoped>\n",
       "    .dataframe tbody tr th:only-of-type {\n",
       "        vertical-align: middle;\n",
       "    }\n",
       "\n",
       "    .dataframe tbody tr th {\n",
       "        vertical-align: top;\n",
       "    }\n",
       "\n",
       "    .dataframe thead th {\n",
       "        text-align: right;\n",
       "    }\n",
       "</style>\n",
       "<table border=\"1\" class=\"dataframe\">\n",
       "  <thead>\n",
       "    <tr style=\"text-align: right;\">\n",
       "      <th></th>\n",
       "      <th></th>\n",
       "      <th>Пара</th>\n",
       "    </tr>\n",
       "    <tr>\n",
       "      <th>Область изучения</th>\n",
       "      <th>Пол</th>\n",
       "      <th></th>\n",
       "    </tr>\n",
       "  </thead>\n",
       "  <tbody>\n",
       "    <tr>\n",
       "      <th>Business</th>\n",
       "      <th>Мужской</th>\n",
       "      <td>430</td>\n",
       "    </tr>\n",
       "    <tr>\n",
       "      <th>MBA</th>\n",
       "      <th>Мужской</th>\n",
       "      <td>415</td>\n",
       "    </tr>\n",
       "    <tr>\n",
       "      <th>Social Work</th>\n",
       "      <th>Женский</th>\n",
       "      <td>360</td>\n",
       "    </tr>\n",
       "    <tr>\n",
       "      <th rowspan=\"2\" valign=\"top\">Law</th>\n",
       "      <th>Мужской</th>\n",
       "      <td>253</td>\n",
       "    </tr>\n",
       "    <tr>\n",
       "      <th>Женский</th>\n",
       "      <td>209</td>\n",
       "    </tr>\n",
       "    <tr>\n",
       "      <th>International Affairs</th>\n",
       "      <th>Мужской</th>\n",
       "      <td>173</td>\n",
       "    </tr>\n",
       "    <tr>\n",
       "      <th>Electrical Engineering</th>\n",
       "      <th>Мужской</th>\n",
       "      <td>127</td>\n",
       "    </tr>\n",
       "    <tr>\n",
       "      <th>Finance</th>\n",
       "      <th>Мужской</th>\n",
       "      <td>102</td>\n",
       "    </tr>\n",
       "    <tr>\n",
       "      <th>Business</th>\n",
       "      <th>Женский</th>\n",
       "      <td>91</td>\n",
       "    </tr>\n",
       "    <tr>\n",
       "      <th>Psychology</th>\n",
       "      <th>Женский</th>\n",
       "      <td>90</td>\n",
       "    </tr>\n",
       "    <tr>\n",
       "      <th>International Affairs</th>\n",
       "      <th>Женский</th>\n",
       "      <td>79</td>\n",
       "    </tr>\n",
       "    <tr>\n",
       "      <th>Sociology</th>\n",
       "      <th>Мужской</th>\n",
       "      <td>78</td>\n",
       "    </tr>\n",
       "    <tr>\n",
       "      <th>law</th>\n",
       "      <th>Мужской</th>\n",
       "      <td>77</td>\n",
       "    </tr>\n",
       "    <tr>\n",
       "      <th>Business (MBA)</th>\n",
       "      <th>Мужской</th>\n",
       "      <td>77</td>\n",
       "    </tr>\n",
       "    <tr>\n",
       "      <th>business</th>\n",
       "      <th>Мужской</th>\n",
       "      <td>74</td>\n",
       "    </tr>\n",
       "    <tr>\n",
       "      <th>Biochemistry</th>\n",
       "      <th>Мужской</th>\n",
       "      <td>70</td>\n",
       "    </tr>\n",
       "    <tr>\n",
       "      <th>Mathematics</th>\n",
       "      <th>Женский</th>\n",
       "      <td>56</td>\n",
       "    </tr>\n",
       "    <tr>\n",
       "      <th>School Psychology</th>\n",
       "      <th>Женский</th>\n",
       "      <td>56</td>\n",
       "    </tr>\n",
       "    <tr>\n",
       "      <th>Clinical Psychology</th>\n",
       "      <th>Женский</th>\n",
       "      <td>56</td>\n",
       "    </tr>\n",
       "    <tr>\n",
       "      <th>Physics</th>\n",
       "      <th>Мужской</th>\n",
       "      <td>56</td>\n",
       "    </tr>\n",
       "    <tr>\n",
       "      <th>Education</th>\n",
       "      <th>Женский</th>\n",
       "      <td>55</td>\n",
       "    </tr>\n",
       "    <tr>\n",
       "      <th>Political Science</th>\n",
       "      <th>Женский</th>\n",
       "      <td>55</td>\n",
       "    </tr>\n",
       "    <tr>\n",
       "      <th>Film</th>\n",
       "      <th>Мужской</th>\n",
       "      <td>54</td>\n",
       "    </tr>\n",
       "    <tr>\n",
       "      <th>MBA</th>\n",
       "      <th>Женский</th>\n",
       "      <td>53</td>\n",
       "    </tr>\n",
       "    <tr>\n",
       "      <th>medicine</th>\n",
       "      <th>Женский</th>\n",
       "      <td>52</td>\n",
       "    </tr>\n",
       "    <tr>\n",
       "      <th>sociology</th>\n",
       "      <th>Женский</th>\n",
       "      <td>52</td>\n",
       "    </tr>\n",
       "    <tr>\n",
       "      <th>Engineering</th>\n",
       "      <th>Мужской</th>\n",
       "      <td>52</td>\n",
       "    </tr>\n",
       "    <tr>\n",
       "      <th>Psychology</th>\n",
       "      <th>Мужской</th>\n",
       "      <td>49</td>\n",
       "    </tr>\n",
       "    <tr>\n",
       "      <th>Computer Science</th>\n",
       "      <th>Мужской</th>\n",
       "      <td>48</td>\n",
       "    </tr>\n",
       "    <tr>\n",
       "      <th>Biology</th>\n",
       "      <th>Мужской</th>\n",
       "      <td>48</td>\n",
       "    </tr>\n",
       "    <tr>\n",
       "      <th>engineering</th>\n",
       "      <th>Мужской</th>\n",
       "      <td>46</td>\n",
       "    </tr>\n",
       "    <tr>\n",
       "      <th>law</th>\n",
       "      <th>Женский</th>\n",
       "      <td>46</td>\n",
       "    </tr>\n",
       "    <tr>\n",
       "      <th>English</th>\n",
       "      <th>Женский</th>\n",
       "      <td>45</td>\n",
       "    </tr>\n",
       "    <tr>\n",
       "      <th>MFA Acting Program</th>\n",
       "      <th>Женский</th>\n",
       "      <td>44</td>\n",
       "    </tr>\n",
       "    <tr>\n",
       "      <th>Genetics</th>\n",
       "      <th>Женский</th>\n",
       "      <td>42</td>\n",
       "    </tr>\n",
       "    <tr>\n",
       "      <th>MA Biotechnology</th>\n",
       "      <th>Женский</th>\n",
       "      <td>40</td>\n",
       "    </tr>\n",
       "    <tr>\n",
       "      <th>Operations Research</th>\n",
       "      <th>Мужской</th>\n",
       "      <td>40</td>\n",
       "    </tr>\n",
       "    <tr>\n",
       "      <th>chemistry</th>\n",
       "      <th>Мужской</th>\n",
       "      <td>39</td>\n",
       "    </tr>\n",
       "    <tr>\n",
       "      <th>Mathematics</th>\n",
       "      <th>Мужской</th>\n",
       "      <td>39</td>\n",
       "    </tr>\n",
       "    <tr>\n",
       "      <th>Economics</th>\n",
       "      <th>Женский</th>\n",
       "      <td>38</td>\n",
       "    </tr>\n",
       "    <tr>\n",
       "      <th>psychology</th>\n",
       "      <th>Женский</th>\n",
       "      <td>38</td>\n",
       "    </tr>\n",
       "    <tr>\n",
       "      <th>Biomedical Engineering</th>\n",
       "      <th>Мужской</th>\n",
       "      <td>38</td>\n",
       "    </tr>\n",
       "    <tr>\n",
       "      <th>microbiology</th>\n",
       "      <th>Женский</th>\n",
       "      <td>38</td>\n",
       "    </tr>\n",
       "    <tr>\n",
       "      <th>Film</th>\n",
       "      <th>Женский</th>\n",
       "      <td>38</td>\n",
       "    </tr>\n",
       "    <tr>\n",
       "      <th>Electrical Engineering</th>\n",
       "      <th>Женский</th>\n",
       "      <td>37</td>\n",
       "    </tr>\n",
       "    <tr>\n",
       "      <th>Biology</th>\n",
       "      <th>Женский</th>\n",
       "      <td>37</td>\n",
       "    </tr>\n",
       "    <tr>\n",
       "      <th>Counseling Psychology</th>\n",
       "      <th>Женский</th>\n",
       "      <td>37</td>\n",
       "    </tr>\n",
       "    <tr>\n",
       "      <th>EDUCATION</th>\n",
       "      <th>Женский</th>\n",
       "      <td>36</td>\n",
       "    </tr>\n",
       "    <tr>\n",
       "      <th>business</th>\n",
       "      <th>Женский</th>\n",
       "      <td>36</td>\n",
       "    </tr>\n",
       "    <tr>\n",
       "      <th>Financial Engineering</th>\n",
       "      <th>Мужской</th>\n",
       "      <td>36</td>\n",
       "    </tr>\n",
       "    <tr>\n",
       "      <th>Education Policy</th>\n",
       "      <th>Женский</th>\n",
       "      <td>36</td>\n",
       "    </tr>\n",
       "    <tr>\n",
       "      <th>music education</th>\n",
       "      <th>Женский</th>\n",
       "      <td>36</td>\n",
       "    </tr>\n",
       "    <tr>\n",
       "      <th>Epidemiology</th>\n",
       "      <th>Женский</th>\n",
       "      <td>35</td>\n",
       "    </tr>\n",
       "    <tr>\n",
       "      <th>International affairs</th>\n",
       "      <th>Женский</th>\n",
       "      <td>35</td>\n",
       "    </tr>\n",
       "    <tr>\n",
       "      <th>Organizational Psychology</th>\n",
       "      <th>Женский</th>\n",
       "      <td>34</td>\n",
       "    </tr>\n",
       "    <tr>\n",
       "      <th>Elementary Education</th>\n",
       "      <th>Женский</th>\n",
       "      <td>33</td>\n",
       "    </tr>\n",
       "    <tr>\n",
       "      <th>electrical engineering</th>\n",
       "      <th>Мужской</th>\n",
       "      <td>32</td>\n",
       "    </tr>\n",
       "    <tr>\n",
       "      <th>Urban Planning</th>\n",
       "      <th>Женский</th>\n",
       "      <td>30</td>\n",
       "    </tr>\n",
       "    <tr>\n",
       "      <th>International Business</th>\n",
       "      <th>Мужской</th>\n",
       "      <td>30</td>\n",
       "    </tr>\n",
       "    <tr>\n",
       "      <th>SIPA-International Affairs</th>\n",
       "      <th>Женский</th>\n",
       "      <td>30</td>\n",
       "    </tr>\n",
       "    <tr>\n",
       "      <th>Engineering</th>\n",
       "      <th>Женский</th>\n",
       "      <td>29</td>\n",
       "    </tr>\n",
       "    <tr>\n",
       "      <th>Economics</th>\n",
       "      <th>Мужской</th>\n",
       "      <td>29</td>\n",
       "    </tr>\n",
       "    <tr>\n",
       "      <th>Mechanical Engineering</th>\n",
       "      <th>Мужской</th>\n",
       "      <td>29</td>\n",
       "    </tr>\n",
       "    <tr>\n",
       "      <th>social work</th>\n",
       "      <th>Женский</th>\n",
       "      <td>26</td>\n",
       "    </tr>\n",
       "    <tr>\n",
       "      <th>political science</th>\n",
       "      <th>Женский</th>\n",
       "      <td>26</td>\n",
       "    </tr>\n",
       "    <tr>\n",
       "      <th>Philosophy</th>\n",
       "      <th>Мужской</th>\n",
       "      <td>25</td>\n",
       "    </tr>\n",
       "    <tr>\n",
       "      <th>Classics</th>\n",
       "      <th>Мужской</th>\n",
       "      <td>24</td>\n",
       "    </tr>\n",
       "    <tr>\n",
       "      <th>Acting</th>\n",
       "      <th>Женский</th>\n",
       "      <td>22</td>\n",
       "    </tr>\n",
       "    <tr>\n",
       "      <th>General management/finance</th>\n",
       "      <th>Мужской</th>\n",
       "      <td>22</td>\n",
       "    </tr>\n",
       "    <tr>\n",
       "      <th>Industrial Engineering</th>\n",
       "      <th>Мужской</th>\n",
       "      <td>22</td>\n",
       "    </tr>\n",
       "    <tr>\n",
       "      <th>Industrial Engineering/Operations Research</th>\n",
       "      <th>Мужской</th>\n",
       "      <td>22</td>\n",
       "    </tr>\n",
       "    <tr>\n",
       "      <th>Masters of Industrial Engineering</th>\n",
       "      <th>Мужской</th>\n",
       "      <td>22</td>\n",
       "    </tr>\n",
       "    <tr>\n",
       "      <th>Math</th>\n",
       "      <th>Мужской</th>\n",
       "      <td>22</td>\n",
       "    </tr>\n",
       "    <tr>\n",
       "      <th>Mechanical Engineering</th>\n",
       "      <th>Женский</th>\n",
       "      <td>22</td>\n",
       "    </tr>\n",
       "    <tr>\n",
       "      <th>Public Health</th>\n",
       "      <th>Женский</th>\n",
       "      <td>22</td>\n",
       "    </tr>\n",
       "    <tr>\n",
       "      <th>Social Work/SIPA</th>\n",
       "      <th>Женский</th>\n",
       "      <td>22</td>\n",
       "    </tr>\n",
       "    <tr>\n",
       "      <th>Theater</th>\n",
       "      <th>Женский</th>\n",
       "      <td>22</td>\n",
       "    </tr>\n",
       "    <tr>\n",
       "      <th>journalism</th>\n",
       "      <th>Женский</th>\n",
       "      <td>22</td>\n",
       "    </tr>\n",
       "    <tr>\n",
       "      <th>Nonfiction writing</th>\n",
       "      <th>Женский</th>\n",
       "      <td>22</td>\n",
       "    </tr>\n",
       "    <tr>\n",
       "      <th>MBA - Private Equity / Real Estate</th>\n",
       "      <th>Мужской</th>\n",
       "      <td>22</td>\n",
       "    </tr>\n",
       "    <tr>\n",
       "      <th>ELECTRICAL ENGINEERING</th>\n",
       "      <th>Мужской</th>\n",
       "      <td>22</td>\n",
       "    </tr>\n",
       "    <tr>\n",
       "      <th>Climate Dynamics</th>\n",
       "      <th>Мужской</th>\n",
       "      <td>22</td>\n",
       "    </tr>\n",
       "    <tr>\n",
       "      <th>Biochemistry &amp; Molecular Biophysics</th>\n",
       "      <th>Женский</th>\n",
       "      <td>22</td>\n",
       "    </tr>\n",
       "    <tr>\n",
       "      <th>Biomedical engineering</th>\n",
       "      <th>Мужской</th>\n",
       "      <td>22</td>\n",
       "    </tr>\n",
       "    <tr>\n",
       "      <th>Biomedical Informatics</th>\n",
       "      <th>Мужской</th>\n",
       "      <td>22</td>\n",
       "    </tr>\n",
       "    <tr>\n",
       "      <th>Electrical Engg.</th>\n",
       "      <th>Мужской</th>\n",
       "      <td>21</td>\n",
       "    </tr>\n",
       "    <tr>\n",
       "      <th>Art Education</th>\n",
       "      <th>Женский</th>\n",
       "      <td>21</td>\n",
       "    </tr>\n",
       "    <tr>\n",
       "      <th>Law and English Literature (J.D./Ph.D.)</th>\n",
       "      <th>Женский</th>\n",
       "      <td>21</td>\n",
       "    </tr>\n",
       "    <tr>\n",
       "      <th>Medicine</th>\n",
       "      <th>Женский</th>\n",
       "      <td>21</td>\n",
       "    </tr>\n",
       "    <tr>\n",
       "      <th>french</th>\n",
       "      <th>Женский</th>\n",
       "      <td>21</td>\n",
       "    </tr>\n",
       "    <tr>\n",
       "      <th>genetics</th>\n",
       "      <th>Мужской</th>\n",
       "      <td>21</td>\n",
       "    </tr>\n",
       "    <tr>\n",
       "      <th>Genetics &amp; Development</th>\n",
       "      <th>Мужской</th>\n",
       "      <td>21</td>\n",
       "    </tr>\n",
       "    <tr>\n",
       "      <th>Art History</th>\n",
       "      <th>Женский</th>\n",
       "      <td>21</td>\n",
       "    </tr>\n",
       "    <tr>\n",
       "      <th>Molecular Biology</th>\n",
       "      <th>Мужской</th>\n",
       "      <td>21</td>\n",
       "    </tr>\n",
       "    <tr>\n",
       "      <th>GS Postbacc PreMed</th>\n",
       "      <th>Женский</th>\n",
       "      <td>21</td>\n",
       "    </tr>\n",
       "    <tr>\n",
       "      <th>International Politics</th>\n",
       "      <th>Мужской</th>\n",
       "      <td>21</td>\n",
       "    </tr>\n",
       "    <tr>\n",
       "      <th>MBA / Master of International Affairs (SIPA)</th>\n",
       "      <th>Мужской</th>\n",
       "      <td>21</td>\n",
       "    </tr>\n",
       "    <tr>\n",
       "      <th>medicine and biochemistry</th>\n",
       "      <th>Мужской</th>\n",
       "      <td>21</td>\n",
       "    </tr>\n",
       "    <tr>\n",
       "      <th>Nutritiron</th>\n",
       "      <th>Женский</th>\n",
       "      <td>21</td>\n",
       "    </tr>\n",
       "    <tr>\n",
       "      <th>biology</th>\n",
       "      <th>Женский</th>\n",
       "      <td>21</td>\n",
       "    </tr>\n",
       "  </tbody>\n",
       "</table>\n",
       "</div>"
      ],
      "text/plain": [
       "                                                      Пара\n",
       "Область изучения                             Пол          \n",
       "Business                                     Мужской   430\n",
       "MBA                                          Мужской   415\n",
       "Social Work                                  Женский   360\n",
       "Law                                          Мужской   253\n",
       "                                             Женский   209\n",
       "International Affairs                        Мужской   173\n",
       "Electrical Engineering                       Мужской   127\n",
       "Finance                                      Мужской   102\n",
       "Business                                     Женский    91\n",
       "Psychology                                   Женский    90\n",
       "International Affairs                        Женский    79\n",
       "Sociology                                    Мужской    78\n",
       "law                                          Мужской    77\n",
       "Business (MBA)                               Мужской    77\n",
       "business                                     Мужской    74\n",
       "Biochemistry                                 Мужской    70\n",
       "Mathematics                                  Женский    56\n",
       "School Psychology                            Женский    56\n",
       "Clinical Psychology                          Женский    56\n",
       "Physics                                      Мужской    56\n",
       "Education                                    Женский    55\n",
       "Political Science                            Женский    55\n",
       "Film                                         Мужской    54\n",
       "MBA                                          Женский    53\n",
       "medicine                                     Женский    52\n",
       "sociology                                    Женский    52\n",
       "Engineering                                  Мужской    52\n",
       "Psychology                                   Мужской    49\n",
       "Computer Science                             Мужской    48\n",
       "Biology                                      Мужской    48\n",
       "engineering                                  Мужской    46\n",
       "law                                          Женский    46\n",
       "English                                      Женский    45\n",
       "MFA Acting Program                           Женский    44\n",
       "Genetics                                     Женский    42\n",
       "MA Biotechnology                             Женский    40\n",
       "Operations Research                          Мужской    40\n",
       "chemistry                                    Мужской    39\n",
       "Mathematics                                  Мужской    39\n",
       "Economics                                    Женский    38\n",
       "psychology                                   Женский    38\n",
       "Biomedical Engineering                       Мужской    38\n",
       "microbiology                                 Женский    38\n",
       "Film                                         Женский    38\n",
       "Electrical Engineering                       Женский    37\n",
       "Biology                                      Женский    37\n",
       "Counseling Psychology                        Женский    37\n",
       "EDUCATION                                    Женский    36\n",
       "business                                     Женский    36\n",
       "Financial Engineering                        Мужской    36\n",
       "Education Policy                             Женский    36\n",
       "music education                              Женский    36\n",
       "Epidemiology                                 Женский    35\n",
       "International affairs                        Женский    35\n",
       "Organizational Psychology                    Женский    34\n",
       "Elementary Education                         Женский    33\n",
       "electrical engineering                       Мужской    32\n",
       "Urban Planning                               Женский    30\n",
       "International Business                       Мужской    30\n",
       "SIPA-International Affairs                   Женский    30\n",
       "Engineering                                  Женский    29\n",
       "Economics                                    Мужской    29\n",
       "Mechanical Engineering                       Мужской    29\n",
       "social work                                  Женский    26\n",
       "political science                            Женский    26\n",
       "Philosophy                                   Мужской    25\n",
       "Classics                                     Мужской    24\n",
       "Acting                                       Женский    22\n",
       "General management/finance                   Мужской    22\n",
       "Industrial Engineering                       Мужской    22\n",
       "Industrial Engineering/Operations Research   Мужской    22\n",
       "Masters of Industrial Engineering            Мужской    22\n",
       "Math                                         Мужской    22\n",
       "Mechanical Engineering                       Женский    22\n",
       "Public Health                                Женский    22\n",
       "Social Work/SIPA                             Женский    22\n",
       "Theater                                      Женский    22\n",
       "journalism                                   Женский    22\n",
       "Nonfiction writing                           Женский    22\n",
       "MBA - Private Equity / Real Estate           Мужской    22\n",
       "ELECTRICAL ENGINEERING                       Мужской    22\n",
       "Climate Dynamics                             Мужской    22\n",
       "Biochemistry & Molecular Biophysics          Женский    22\n",
       "Biomedical engineering                       Мужской    22\n",
       "Biomedical Informatics                       Мужской    22\n",
       "Electrical Engg.                             Мужской    21\n",
       "Art Education                                Женский    21\n",
       "Law and English Literature (J.D./Ph.D.)      Женский    21\n",
       "Medicine                                     Женский    21\n",
       "french                                       Женский    21\n",
       "genetics                                     Мужской    21\n",
       "Genetics & Development                       Мужской    21\n",
       "Art History                                  Женский    21\n",
       "Molecular Biology                            Мужской    21\n",
       "GS Postbacc PreMed                           Женский    21\n",
       "International Politics                       Мужской    21\n",
       "MBA / Master of International Affairs (SIPA) Мужской    21\n",
       "medicine and biochemistry                    Мужской    21\n",
       "Nutritiron                                   Женский    21\n",
       "biology                                      Женский    21"
      ]
     },
     "execution_count": 25,
     "metadata": {},
     "output_type": "execute_result"
    }
   ],
   "source": [
    "(Speed_DD.groupby([\"Область изучения\", \"Пол\"])[[\"Пара\"]].count().sort_values(\"Пара\", ascending=False).head(100))\n",
    "# Взависимости от пола были востребованы разные профессии. "
   ]
  },
  {
   "cell_type": "code",
   "execution_count": 26,
   "id": "65f40690",
   "metadata": {},
   "outputs": [
    {
     "data": {
      "text/plain": [
       "<matplotlib.legend.Legend at 0x242245ecca0>"
      ]
     },
     "execution_count": 26,
     "metadata": {},
     "output_type": "execute_result"
    },
    {
     "data": {
      "image/png": "[encoded data removed]",
      "text/plain": [
       "<Figure size 432x288 with 1 Axes>"
      ]
     },
     "metadata": {},
     "output_type": "display_data"
    }
   ],
   "source": [
    "# Люди с какой целью получили наибольшее кол-во пар?\n",
    "colors = ['#DDA0DD', '#DA70D6', '#BA55D3', '#9370DB', '#8B008B', '#4B0082']\n",
    "Speed_DD.groupby(\"Цель\")[[\"Пара\"]].count().plot.pie(y=\"Пара\", autopct='%1.0f%%', colors = colors, \n",
    "                     explode = [0, 0, 0, 0, 0.1, 0], title = 'Люди с какой целью получили наибольшее кол-во пар?', shadow = True)\n",
    "plt.legend(bbox_to_anchor = (2, 0.5))\n",
    "# Микровывод: Люди с целью \"посетить фан-встречу\""
   ]
  },
  {
   "cell_type": "code",
   "execution_count": 27,
   "id": "460e6571",
   "metadata": {},
   "outputs": [
    {
     "data": {
      "text/plain": [
       "<AxesSubplot:ylabel='exphappy'>"
      ]
     },
     "execution_count": 27,
     "metadata": {},
     "output_type": "execute_result"
    },
    {
     "data": {
      "image/png": "[encoded data removed]",
      "text/plain": [
       "<Figure size 432x288 with 1 Axes>"
      ]
     },
     "metadata": {
      "needs_background": "light"
     },
     "output_type": "display_data"
    }
   ],
   "source": [
    "# exphappy = В целом, по шкале от 1 до 10, насколько вы ожидаете быть счастливыми с людьми, которых встречаете во время быстрых свиданий?\n",
    "# Какой кол-во людей какую оценку поставили?\n",
    "Speed_DD.groupby(\"exphappy\")[[\"iid\"]].count().plot.barh(color = ['#66CDAA'])\n",
    "# Микровывод: Оценка \"5\" по 10-балльной шкале является самым популярным ответом на вопрос \"Насколько вы ожидаете быть счастливыми с людьми, которых встречаете во время быстрых свиданий?\""
   ]
  },
  {
   "cell_type": "code",
   "execution_count": 28,
   "id": "d0787180",
   "metadata": {},
   "outputs": [
    {
     "name": "stderr",
     "output_type": "stream",
     "text": [
      "C:\\ProgramData\\Anaconda3\\lib\\site-packages\\seaborn\\distributions.py:2619: FutureWarning:\n",
      "\n",
      "`distplot` is a deprecated function and will be removed in a future version. Please adapt your code to use either `displot` (a figure-level function with similar flexibility) or `histplot` (an axes-level function for histograms).\n",
      "\n"
     ]
    },
    {
     "data": {
      "text/plain": [
       "<AxesSubplot:xlabel='expnum', ylabel='Density'>"
      ]
     },
     "execution_count": 28,
     "metadata": {},
     "output_type": "execute_result"
    },
    {
     "data": {
      "image/png": "[encoded data removed]",
      "text/plain": [
       "<Figure size 432x288 with 1 Axes>"
      ]
     },
     "metadata": {
      "needs_background": "light"
     },
     "output_type": "display_data"
    }
   ],
   "source": [
    "sns.distplot(Speed_DD[\"expnum\"]) \n",
    "# Люди ожидали примерно 3-4 свиданий после эксперимента"
   ]
  },
  {
   "cell_type": "code",
   "execution_count": 29,
   "id": "fee3d381",
   "metadata": {},
   "outputs": [
    {
     "data": {
      "text/plain": [
       "<matplotlib.legend.Legend at 0x2422460b8e0>"
      ]
     },
     "execution_count": 29,
     "metadata": {},
     "output_type": "execute_result"
    },
    {
     "data": {
      "image/png": "[encoded data removed]",
      "text/plain": [
       "<Figure size 432x288 with 1 Axes>"
      ]
     },
     "metadata": {},
     "output_type": "display_data"
    }
   ],
   "source": [
    "# Поставила в 2-ой операции \"#date_3\", чтобы можно было построить эту диаграмму, где 0 - это \"Нет\", а 1 - это \"Да\"\n",
    "# date_3 - это ответ на вопрос \"Были ли вы на свидании с кем-нибудь из ваших партнеров?\"\n",
    "colors = ['#98FB98', '#3CB371']\n",
    "Speed_DD.groupby(\"date_3\").count().plot.pie(y=\"iid\", autopct='%1.0f%%', colors = colors, \n",
    "                                            explode = [0, 0.1], title = 'Соотношение большого и ограниченного выбора',  \n",
    "                                            shadow = True)\n",
    "plt.legend(bbox_to_anchor = (1, 0.5))\n",
    "# Микровывод: Только 38% пошли на свидание со своим партнёром"
   ]
  },
  {
   "cell_type": "code",
   "execution_count": 30,
   "id": "ddc88def",
   "metadata": {},
   "outputs": [
    {
     "data": {
      "text/plain": [
       "<matplotlib.legend.Legend at 0x242248f0400>"
      ]
     },
     "execution_count": 30,
     "metadata": {},
     "output_type": "execute_result"
    },
    {
     "data": {
      "image/png": "[encoded data removed]",
      "text/plain": [
       "<Figure size 432x288 with 1 Axes>"
      ]
     },
     "metadata": {},
     "output_type": "display_data"
    }
   ],
   "source": [
    "colors = ['#ADFF2F', '#32CD32', '#98FB98', '#00FF7F', '#2E8B57', '#008000', '#006400']\n",
    "Speed_DD.groupby(\"Частота свиданий\")[[\"Пара\"]].count().plot.pie(y=\"Пара\", autopct='%1.0f%%', explode = [0.1, 0, 0.1, 0, 0, 0, 0], colors = colors)\n",
    "plt.legend(bbox_to_anchor = (2.5, 0.5))\n",
    "#Микровывод: Те, кто часто гуляют, получили больше пар"
   ]
  },
  {
   "cell_type": "code",
   "execution_count": 31,
   "id": "38d561ab",
   "metadata": {},
   "outputs": [
    {
     "data": {
      "text/plain": [
       "<matplotlib.legend.Legend at 0x24224ef7df0>"
      ]
     },
     "execution_count": 31,
     "metadata": {},
     "output_type": "execute_result"
    },
    {
     "data": {
      "image/png": "[encoded data removed]",
      "text/plain": [
       "<Figure size 432x288 with 1 Axes>"
      ]
     },
     "metadata": {},
     "output_type": "display_data"
    }
   ],
   "source": [
    "colors = ['#E0FFFF', '#AFEEEE', '#7FFFD4', '#40E0D0', '#5F9EA0', '#00BFFF','#7B68EE', '#0000CD']\n",
    "Speed_DD.groupby(\"them_cal\").count().plot.pie(y=\"iid\", autopct='%1.0f%%',colors = colors, \n",
    "                                                     explode = [0.1, 0, 0, 0, 0, 0, 0, 0], title = 'Скольким перезвонили?')\n",
    "plt.legend(bbox_to_anchor = (1, 0.5))\n",
    "#Микровывод: 50% участников не получали звонков от своих пар, 27% получили только 1 звонок"
   ]
  },
  {
   "cell_type": "code",
   "execution_count": 32,
   "id": "17a7301f",
   "metadata": {},
   "outputs": [
    {
     "data": {
      "text/plain": [
       "<matplotlib.legend.Legend at 0x24224e97520>"
      ]
     },
     "execution_count": 32,
     "metadata": {},
     "output_type": "execute_result"
    },
    {
     "data": {
      "image/png": "[encoded data removed]",
      "text/plain": [
       "<Figure size 432x288 with 1 Axes>"
      ]
     },
     "metadata": {},
     "output_type": "display_data"
    }
   ],
   "source": [
    "colors = ['#CD5C5C', '#F08080', '#FA8072', '#FFA07A', '#DC143C', '#B22222', '#8B0000','#FFA07A', '#FF8C00']\n",
    "Speed_DD.groupby(\"you_call\").count().plot.pie(y=\"iid\", autopct='%1.0f%%', explode = [0.1, 0, 0, 0, 0, 0, 0, 0, 0], colors = colors, title = 'Со сколькими вы связались, чтобы назначить свидание?')\n",
    "plt.legend(bbox_to_anchor = (1, 0.5))\n",
    "#Микровывод: 62% участников не назначали никаких свиданий после экспериментов."
   ]
  },
  {
   "cell_type": "code",
   "execution_count": 33,
   "id": "e5b71188",
   "metadata": {},
   "outputs": [
    {
     "data": {
      "text/plain": [
       "Оценка партнера по атрибутам    1.000000\n",
       "fun_o                           0.570183\n",
       "like_o                          0.653525\n",
       "Name: Оценка партнера по атрибутам, dtype: float64"
      ]
     },
     "execution_count": 33,
     "metadata": {},
     "output_type": "execute_result"
    }
   ],
   "source": [
    "cor= Speed_DD.corr(method=\"spearman\")\n",
    "# Вычислить попарную корреляцию столбцов, исключая значения NA/null.Используя метод - ранговая корреляция Спирмена\n",
    "corr_target=abs(cor[\"Оценка партнера по атрибутам\"])\n",
    "# Встроенная функция abs(x) в Python возвращает абсолютное значение аргумента x, который может быть целым или числом с плавающей точкой, или же объектом, реализующим функцию __abs__(). Для комплексных чисел функция возвращает их величину. Абсолютное значение любого числового значения -x или +x — это всегда соответствующее положительное +x.\n",
    "corr_target[corr_target>=0.50]\n",
    "#Микроввод:вывел \"fun_o\" и \"like_o\", далее работаем с ними "
   ]
  },
  {
   "cell_type": "code",
   "execution_count": 34,
   "id": "436f7854",
   "metadata": {},
   "outputs": [
    {
     "data": {
      "text/plain": [
       "<matplotlib.collections.PathCollection at 0x24225035a30>"
      ]
     },
     "execution_count": 34,
     "metadata": {},
     "output_type": "execute_result"
    },
    {
     "data": {
      "image/png": "[encoded data removed]",
      "text/plain": [
       "<Figure size 360x360 with 1 Axes>"
      ]
     },
     "metadata": {
      "needs_background": "light"
     },
     "output_type": "display_data"
    }
   ],
   "source": [
    "plt.figure(figsize=(5,5))\n",
    "plt.scatter(Speed_DD['Оценка партнера по атрибутам'], Speed_DD['fun_o']) \n",
    "# Функция scatter()строит одну точку для каждого наблюдения. Ему нужны два массива одинаковой длины, один для значений по оси x и один для значений по оси y"
   ]
  },
  {
   "cell_type": "code",
   "execution_count": 35,
   "id": "13135057",
   "metadata": {},
   "outputs": [
    {
     "data": {
      "text/plain": [
       "<matplotlib.collections.PathCollection at 0x24225096fd0>"
      ]
     },
     "execution_count": 35,
     "metadata": {},
     "output_type": "execute_result"
    },
    {
     "data": {
      "image/png": "[encoded data removed]",
      "text/plain": [
       "<Figure size 360x360 with 1 Axes>"
      ]
     },
     "metadata": {
      "needs_background": "light"
     },
     "output_type": "display_data"
    }
   ],
   "source": [
    "plt.figure(figsize=(5,5))\n",
    "plt.scatter(Speed_DD['Оценка партнера по атрибутам'], Speed_DD['like_o']) "
   ]
  },
  {
   "cell_type": "code",
   "execution_count": 36,
   "id": "1917885f",
   "metadata": {},
   "outputs": [
    {
     "name": "stderr",
     "output_type": "stream",
     "text": [
      "C:\\ProgramData\\Anaconda3\\lib\\site-packages\\seaborn\\_decorators.py:36: FutureWarning:\n",
      "\n",
      "Pass the following variables as keyword args: x, y. From version 0.12, the only valid positional argument will be `data`, and passing other arguments without an explicit keyword will result in an error or misinterpretation.\n",
      "\n"
     ]
    },
    {
     "data": {
      "text/plain": [
       "<seaborn.axisgrid.JointGrid at 0x2422506b5e0>"
      ]
     },
     "execution_count": 36,
     "metadata": {},
     "output_type": "execute_result"
    },
    {
     "data": {
      "image/png": "[encoded data removed]",
      "text/plain": [
       "<Figure size 432x432 with 3 Axes>"
      ]
     },
     "metadata": {
      "needs_background": "light"
     },
     "output_type": "display_data"
    }
   ],
   "source": [
    "sns.jointplot(Speed_DD['Решение партнёра'], Speed_DD['like_o'])"
   ]
  },
  {
   "cell_type": "code",
   "execution_count": 38,
   "id": "f65caa9e",
   "metadata": {},
   "outputs": [
    {
     "data": {
      "text/html": [
       "<div>\n",
       "<style scoped>\n",
       "    .dataframe tbody tr th:only-of-type {\n",
       "        vertical-align: middle;\n",
       "    }\n",
       "\n",
       "    .dataframe tbody tr th {\n",
       "        vertical-align: top;\n",
       "    }\n",
       "\n",
       "    .dataframe thead th {\n",
       "        text-align: right;\n",
       "    }\n",
       "</style>\n",
       "<table border=\"1\" class=\"dataframe\">\n",
       "  <thead>\n",
       "    <tr style=\"text-align: right;\">\n",
       "      <th></th>\n",
       "      <th>iid</th>\n",
       "      <th>Пол</th>\n",
       "      <th>pid</th>\n",
       "      <th>Пара</th>\n",
       "      <th>int_corr</th>\n",
       "      <th>Участник и партнер были одной расы?</th>\n",
       "      <th>Возраст партнёра</th>\n",
       "      <th>Раса партнёра</th>\n",
       "      <th>Заявленное предпочтение партнера</th>\n",
       "      <th>pf_o_sin</th>\n",
       "      <th>pf_o_int</th>\n",
       "      <th>pf_o_fun</th>\n",
       "      <th>pf_o_amb</th>\n",
       "      <th>pf_o_sha</th>\n",
       "      <th>Решение партнёра</th>\n",
       "      <th>Оценка партнера по атрибутам</th>\n",
       "      <th>sinc_o</th>\n",
       "      <th>intel_o</th>\n",
       "      <th>fun_o</th>\n",
       "      <th>like_o</th>\n",
       "      <th>prob_o</th>\n",
       "      <th>met_o</th>\n",
       "      <th>Возраст</th>\n",
       "      <th>Область изучения</th>\n",
       "      <th>Раса</th>\n",
       "      <th>Важность расы</th>\n",
       "      <th>Важность религии</th>\n",
       "      <th>Родом из</th>\n",
       "      <th>Цель</th>\n",
       "      <th>Частота свиданий</th>\n",
       "      <th>Как часто вы выходите в свет (не обязательно на свидания)?</th>\n",
       "      <th>Профессия</th>\n",
       "      <th>Какова ваша предполагаемая карьера?</th>\n",
       "      <th>sports</th>\n",
       "      <th>tvsports</th>\n",
       "      <th>exercise</th>\n",
       "      <th>dining</th>\n",
       "      <th>museums</th>\n",
       "      <th>art</th>\n",
       "      <th>hiking</th>\n",
       "      <th>gaming</th>\n",
       "      <th>clubbing</th>\n",
       "      <th>reading</th>\n",
       "      <th>tv</th>\n",
       "      <th>theater</th>\n",
       "      <th>movies</th>\n",
       "      <th>concerts</th>\n",
       "      <th>music</th>\n",
       "      <th>shopping</th>\n",
       "      <th>yoga</th>\n",
       "      <th>attr1_1</th>\n",
       "      <th>sinc1_1</th>\n",
       "      <th>intel1_1</th>\n",
       "      <th>fun1_1</th>\n",
       "      <th>amb1_1</th>\n",
       "      <th>attr3_1</th>\n",
       "      <th>sinc3_1</th>\n",
       "      <th>fun3_1</th>\n",
       "      <th>intel3_1</th>\n",
       "      <th>dec</th>\n",
       "      <th>attr</th>\n",
       "      <th>sinc</th>\n",
       "      <th>intel</th>\n",
       "      <th>fun</th>\n",
       "      <th>like</th>\n",
       "      <th>prob</th>\n",
       "      <th>met</th>\n",
       "    </tr>\n",
       "  </thead>\n",
       "  <tbody>\n",
       "    <tr>\n",
       "      <th>0</th>\n",
       "      <td>1</td>\n",
       "      <td>Женский</td>\n",
       "      <td>11.0</td>\n",
       "      <td>Нет</td>\n",
       "      <td>0.14</td>\n",
       "      <td>Нет</td>\n",
       "      <td>27.0</td>\n",
       "      <td>Американец европейского происхождения</td>\n",
       "      <td>35.0</td>\n",
       "      <td>20.0</td>\n",
       "      <td>20.0</td>\n",
       "      <td>20.0</td>\n",
       "      <td>0.0</td>\n",
       "      <td>5.0</td>\n",
       "      <td>Нет</td>\n",
       "      <td>6.0</td>\n",
       "      <td>8.0</td>\n",
       "      <td>8.0</td>\n",
       "      <td>8.0</td>\n",
       "      <td>7.0</td>\n",
       "      <td>4.0</td>\n",
       "      <td>2.0</td>\n",
       "      <td>21.0</td>\n",
       "      <td>Law</td>\n",
       "      <td>Американец азиатского происхождения</td>\n",
       "      <td>2.0</td>\n",
       "      <td>4.0</td>\n",
       "      <td>Chicago</td>\n",
       "      <td>Чтобы познакомиться с новыми людьми</td>\n",
       "      <td>Почти никогда</td>\n",
       "      <td>Несколько раз в неделю</td>\n",
       "      <td>lawyer</td>\n",
       "      <td>NaN</td>\n",
       "      <td>9.0</td>\n",
       "      <td>2.0</td>\n",
       "      <td>8.0</td>\n",
       "      <td>9.0</td>\n",
       "      <td>1.0</td>\n",
       "      <td>1.0</td>\n",
       "      <td>5.0</td>\n",
       "      <td>1.0</td>\n",
       "      <td>5.0</td>\n",
       "      <td>6.0</td>\n",
       "      <td>9.0</td>\n",
       "      <td>1.0</td>\n",
       "      <td>10.0</td>\n",
       "      <td>10.0</td>\n",
       "      <td>9.0</td>\n",
       "      <td>8.0</td>\n",
       "      <td>1.0</td>\n",
       "      <td>15.0</td>\n",
       "      <td>20.0</td>\n",
       "      <td>20.0</td>\n",
       "      <td>15.0</td>\n",
       "      <td>15.0</td>\n",
       "      <td>6.0</td>\n",
       "      <td>8.0</td>\n",
       "      <td>8.0</td>\n",
       "      <td>8.0</td>\n",
       "      <td>1</td>\n",
       "      <td>6.0</td>\n",
       "      <td>9.0</td>\n",
       "      <td>7.0</td>\n",
       "      <td>7.0</td>\n",
       "      <td>7.0</td>\n",
       "      <td>6.0</td>\n",
       "      <td>2.0</td>\n",
       "    </tr>\n",
       "    <tr>\n",
       "      <th>1</th>\n",
       "      <td>1</td>\n",
       "      <td>Женский</td>\n",
       "      <td>12.0</td>\n",
       "      <td>Нет</td>\n",
       "      <td>0.54</td>\n",
       "      <td>Нет</td>\n",
       "      <td>22.0</td>\n",
       "      <td>Американец европейского происхождения</td>\n",
       "      <td>60.0</td>\n",
       "      <td>0.0</td>\n",
       "      <td>0.0</td>\n",
       "      <td>40.0</td>\n",
       "      <td>0.0</td>\n",
       "      <td>0.0</td>\n",
       "      <td>Нет</td>\n",
       "      <td>7.0</td>\n",
       "      <td>8.0</td>\n",
       "      <td>10.0</td>\n",
       "      <td>7.0</td>\n",
       "      <td>8.0</td>\n",
       "      <td>4.0</td>\n",
       "      <td>2.0</td>\n",
       "      <td>21.0</td>\n",
       "      <td>Law</td>\n",
       "      <td>Американец азиатского происхождения</td>\n",
       "      <td>2.0</td>\n",
       "      <td>4.0</td>\n",
       "      <td>Chicago</td>\n",
       "      <td>Чтобы познакомиться с новыми людьми</td>\n",
       "      <td>Почти никогда</td>\n",
       "      <td>Несколько раз в неделю</td>\n",
       "      <td>lawyer</td>\n",
       "      <td>NaN</td>\n",
       "      <td>9.0</td>\n",
       "      <td>2.0</td>\n",
       "      <td>8.0</td>\n",
       "      <td>9.0</td>\n",
       "      <td>1.0</td>\n",
       "      <td>1.0</td>\n",
       "      <td>5.0</td>\n",
       "      <td>1.0</td>\n",
       "      <td>5.0</td>\n",
       "      <td>6.0</td>\n",
       "      <td>9.0</td>\n",
       "      <td>1.0</td>\n",
       "      <td>10.0</td>\n",
       "      <td>10.0</td>\n",
       "      <td>9.0</td>\n",
       "      <td>8.0</td>\n",
       "      <td>1.0</td>\n",
       "      <td>15.0</td>\n",
       "      <td>20.0</td>\n",
       "      <td>20.0</td>\n",
       "      <td>15.0</td>\n",
       "      <td>15.0</td>\n",
       "      <td>6.0</td>\n",
       "      <td>8.0</td>\n",
       "      <td>8.0</td>\n",
       "      <td>8.0</td>\n",
       "      <td>1</td>\n",
       "      <td>7.0</td>\n",
       "      <td>8.0</td>\n",
       "      <td>7.0</td>\n",
       "      <td>8.0</td>\n",
       "      <td>7.0</td>\n",
       "      <td>5.0</td>\n",
       "      <td>1.0</td>\n",
       "    </tr>\n",
       "    <tr>\n",
       "      <th>2</th>\n",
       "      <td>1</td>\n",
       "      <td>Женский</td>\n",
       "      <td>13.0</td>\n",
       "      <td>Да</td>\n",
       "      <td>0.16</td>\n",
       "      <td>Да</td>\n",
       "      <td>22.0</td>\n",
       "      <td>Американец азиатского происхождения</td>\n",
       "      <td>19.0</td>\n",
       "      <td>18.0</td>\n",
       "      <td>19.0</td>\n",
       "      <td>18.0</td>\n",
       "      <td>14.0</td>\n",
       "      <td>12.0</td>\n",
       "      <td>Да</td>\n",
       "      <td>10.0</td>\n",
       "      <td>10.0</td>\n",
       "      <td>10.0</td>\n",
       "      <td>10.0</td>\n",
       "      <td>10.0</td>\n",
       "      <td>10.0</td>\n",
       "      <td>1.0</td>\n",
       "      <td>21.0</td>\n",
       "      <td>Law</td>\n",
       "      <td>Американец азиатского происхождения</td>\n",
       "      <td>2.0</td>\n",
       "      <td>4.0</td>\n",
       "      <td>Chicago</td>\n",
       "      <td>Чтобы познакомиться с новыми людьми</td>\n",
       "      <td>Почти никогда</td>\n",
       "      <td>Несколько раз в неделю</td>\n",
       "      <td>lawyer</td>\n",
       "      <td>NaN</td>\n",
       "      <td>9.0</td>\n",
       "      <td>2.0</td>\n",
       "      <td>8.0</td>\n",
       "      <td>9.0</td>\n",
       "      <td>1.0</td>\n",
       "      <td>1.0</td>\n",
       "      <td>5.0</td>\n",
       "      <td>1.0</td>\n",
       "      <td>5.0</td>\n",
       "      <td>6.0</td>\n",
       "      <td>9.0</td>\n",
       "      <td>1.0</td>\n",
       "      <td>10.0</td>\n",
       "      <td>10.0</td>\n",
       "      <td>9.0</td>\n",
       "      <td>8.0</td>\n",
       "      <td>1.0</td>\n",
       "      <td>15.0</td>\n",
       "      <td>20.0</td>\n",
       "      <td>20.0</td>\n",
       "      <td>15.0</td>\n",
       "      <td>15.0</td>\n",
       "      <td>6.0</td>\n",
       "      <td>8.0</td>\n",
       "      <td>8.0</td>\n",
       "      <td>8.0</td>\n",
       "      <td>1</td>\n",
       "      <td>5.0</td>\n",
       "      <td>8.0</td>\n",
       "      <td>9.0</td>\n",
       "      <td>8.0</td>\n",
       "      <td>7.0</td>\n",
       "      <td>NaN</td>\n",
       "      <td>1.0</td>\n",
       "    </tr>\n",
       "    <tr>\n",
       "      <th>3</th>\n",
       "      <td>1</td>\n",
       "      <td>Женский</td>\n",
       "      <td>14.0</td>\n",
       "      <td>Да</td>\n",
       "      <td>0.61</td>\n",
       "      <td>Нет</td>\n",
       "      <td>23.0</td>\n",
       "      <td>Американец европейского происхождения</td>\n",
       "      <td>30.0</td>\n",
       "      <td>5.0</td>\n",
       "      <td>15.0</td>\n",
       "      <td>40.0</td>\n",
       "      <td>5.0</td>\n",
       "      <td>5.0</td>\n",
       "      <td>Да</td>\n",
       "      <td>7.0</td>\n",
       "      <td>8.0</td>\n",
       "      <td>9.0</td>\n",
       "      <td>8.0</td>\n",
       "      <td>7.0</td>\n",
       "      <td>7.0</td>\n",
       "      <td>2.0</td>\n",
       "      <td>21.0</td>\n",
       "      <td>Law</td>\n",
       "      <td>Американец азиатского происхождения</td>\n",
       "      <td>2.0</td>\n",
       "      <td>4.0</td>\n",
       "      <td>Chicago</td>\n",
       "      <td>Чтобы познакомиться с новыми людьми</td>\n",
       "      <td>Почти никогда</td>\n",
       "      <td>Несколько раз в неделю</td>\n",
       "      <td>lawyer</td>\n",
       "      <td>NaN</td>\n",
       "      <td>9.0</td>\n",
       "      <td>2.0</td>\n",
       "      <td>8.0</td>\n",
       "      <td>9.0</td>\n",
       "      <td>1.0</td>\n",
       "      <td>1.0</td>\n",
       "      <td>5.0</td>\n",
       "      <td>1.0</td>\n",
       "      <td>5.0</td>\n",
       "      <td>6.0</td>\n",
       "      <td>9.0</td>\n",
       "      <td>1.0</td>\n",
       "      <td>10.0</td>\n",
       "      <td>10.0</td>\n",
       "      <td>9.0</td>\n",
       "      <td>8.0</td>\n",
       "      <td>1.0</td>\n",
       "      <td>15.0</td>\n",
       "      <td>20.0</td>\n",
       "      <td>20.0</td>\n",
       "      <td>15.0</td>\n",
       "      <td>15.0</td>\n",
       "      <td>6.0</td>\n",
       "      <td>8.0</td>\n",
       "      <td>8.0</td>\n",
       "      <td>8.0</td>\n",
       "      <td>1</td>\n",
       "      <td>7.0</td>\n",
       "      <td>6.0</td>\n",
       "      <td>8.0</td>\n",
       "      <td>7.0</td>\n",
       "      <td>7.0</td>\n",
       "      <td>6.0</td>\n",
       "      <td>2.0</td>\n",
       "    </tr>\n",
       "    <tr>\n",
       "      <th>4</th>\n",
       "      <td>1</td>\n",
       "      <td>Женский</td>\n",
       "      <td>15.0</td>\n",
       "      <td>Да</td>\n",
       "      <td>0.21</td>\n",
       "      <td>Нет</td>\n",
       "      <td>24.0</td>\n",
       "      <td>Латиноамериканец</td>\n",
       "      <td>30.0</td>\n",
       "      <td>10.0</td>\n",
       "      <td>20.0</td>\n",
       "      <td>10.0</td>\n",
       "      <td>10.0</td>\n",
       "      <td>20.0</td>\n",
       "      <td>Да</td>\n",
       "      <td>8.0</td>\n",
       "      <td>7.0</td>\n",
       "      <td>9.0</td>\n",
       "      <td>6.0</td>\n",
       "      <td>8.0</td>\n",
       "      <td>6.0</td>\n",
       "      <td>2.0</td>\n",
       "      <td>21.0</td>\n",
       "      <td>Law</td>\n",
       "      <td>Американец азиатского происхождения</td>\n",
       "      <td>2.0</td>\n",
       "      <td>4.0</td>\n",
       "      <td>Chicago</td>\n",
       "      <td>Чтобы познакомиться с новыми людьми</td>\n",
       "      <td>Почти никогда</td>\n",
       "      <td>Несколько раз в неделю</td>\n",
       "      <td>lawyer</td>\n",
       "      <td>NaN</td>\n",
       "      <td>9.0</td>\n",
       "      <td>2.0</td>\n",
       "      <td>8.0</td>\n",
       "      <td>9.0</td>\n",
       "      <td>1.0</td>\n",
       "      <td>1.0</td>\n",
       "      <td>5.0</td>\n",
       "      <td>1.0</td>\n",
       "      <td>5.0</td>\n",
       "      <td>6.0</td>\n",
       "      <td>9.0</td>\n",
       "      <td>1.0</td>\n",
       "      <td>10.0</td>\n",
       "      <td>10.0</td>\n",
       "      <td>9.0</td>\n",
       "      <td>8.0</td>\n",
       "      <td>1.0</td>\n",
       "      <td>15.0</td>\n",
       "      <td>20.0</td>\n",
       "      <td>20.0</td>\n",
       "      <td>15.0</td>\n",
       "      <td>15.0</td>\n",
       "      <td>6.0</td>\n",
       "      <td>8.0</td>\n",
       "      <td>8.0</td>\n",
       "      <td>8.0</td>\n",
       "      <td>1</td>\n",
       "      <td>5.0</td>\n",
       "      <td>6.0</td>\n",
       "      <td>7.0</td>\n",
       "      <td>7.0</td>\n",
       "      <td>6.0</td>\n",
       "      <td>6.0</td>\n",
       "      <td>2.0</td>\n",
       "    </tr>\n",
       "  </tbody>\n",
       "</table>\n",
       "</div>"
      ],
      "text/plain": [
       "   iid      Пол   pid Пара  int_corr Участник и партнер были одной расы?  \\\n",
       "0    1  Женский  11.0  Нет      0.14                                 Нет   \n",
       "1    1  Женский  12.0  Нет      0.54                                 Нет   \n",
       "2    1  Женский  13.0   Да      0.16                                  Да   \n",
       "3    1  Женский  14.0   Да      0.61                                 Нет   \n",
       "4    1  Женский  15.0   Да      0.21                                 Нет   \n",
       "\n",
       "   Возраст партнёра                          Раса партнёра  \\\n",
       "0              27.0  Американец европейского происхождения   \n",
       "1              22.0  Американец европейского происхождения   \n",
       "2              22.0    Американец азиатского происхождения   \n",
       "3              23.0  Американец европейского происхождения   \n",
       "4              24.0                       Латиноамериканец   \n",
       "\n",
       "   Заявленное предпочтение партнера  pf_o_sin  pf_o_int  pf_o_fun  pf_o_amb  \\\n",
       "0                              35.0      20.0      20.0      20.0       0.0   \n",
       "1                              60.0       0.0       0.0      40.0       0.0   \n",
       "2                              19.0      18.0      19.0      18.0      14.0   \n",
       "3                              30.0       5.0      15.0      40.0       5.0   \n",
       "4                              30.0      10.0      20.0      10.0      10.0   \n",
       "\n",
       "   pf_o_sha Решение партнёра  Оценка партнера по атрибутам  sinc_o  intel_o  \\\n",
       "0       5.0              Нет                           6.0     8.0      8.0   \n",
       "1       0.0              Нет                           7.0     8.0     10.0   \n",
       "2      12.0               Да                          10.0    10.0     10.0   \n",
       "3       5.0               Да                           7.0     8.0      9.0   \n",
       "4      20.0               Да                           8.0     7.0      9.0   \n",
       "\n",
       "   fun_o  like_o  prob_o  met_o  Возраст Область изучения  \\\n",
       "0    8.0     7.0     4.0    2.0     21.0              Law   \n",
       "1    7.0     8.0     4.0    2.0     21.0              Law   \n",
       "2   10.0    10.0    10.0    1.0     21.0              Law   \n",
       "3    8.0     7.0     7.0    2.0     21.0              Law   \n",
       "4    6.0     8.0     6.0    2.0     21.0              Law   \n",
       "\n",
       "                                  Раса  Важность расы  Важность религии  \\\n",
       "0  Американец азиатского происхождения            2.0               4.0   \n",
       "1  Американец азиатского происхождения            2.0               4.0   \n",
       "2  Американец азиатского происхождения            2.0               4.0   \n",
       "3  Американец азиатского происхождения            2.0               4.0   \n",
       "4  Американец азиатского происхождения            2.0               4.0   \n",
       "\n",
       "  Родом из                                 Цель Частота свиданий  \\\n",
       "0  Chicago  Чтобы познакомиться с новыми людьми    Почти никогда   \n",
       "1  Chicago  Чтобы познакомиться с новыми людьми    Почти никогда   \n",
       "2  Chicago  Чтобы познакомиться с новыми людьми    Почти никогда   \n",
       "3  Chicago  Чтобы познакомиться с новыми людьми    Почти никогда   \n",
       "4  Chicago  Чтобы познакомиться с новыми людьми    Почти никогда   \n",
       "\n",
       "  Как часто вы выходите в свет (не обязательно на свидания)? Профессия  \\\n",
       "0                             Несколько раз в неделю            lawyer   \n",
       "1                             Несколько раз в неделю            lawyer   \n",
       "2                             Несколько раз в неделю            lawyer   \n",
       "3                             Несколько раз в неделю            lawyer   \n",
       "4                             Несколько раз в неделю            lawyer   \n",
       "\n",
       "  Какова ваша предполагаемая карьера?  sports  tvsports  exercise  dining  \\\n",
       "0                                 NaN     9.0       2.0       8.0     9.0   \n",
       "1                                 NaN     9.0       2.0       8.0     9.0   \n",
       "2                                 NaN     9.0       2.0       8.0     9.0   \n",
       "3                                 NaN     9.0       2.0       8.0     9.0   \n",
       "4                                 NaN     9.0       2.0       8.0     9.0   \n",
       "\n",
       "   museums  art  hiking  gaming  clubbing  reading   tv  theater  movies  \\\n",
       "0      1.0  1.0     5.0     1.0       5.0      6.0  9.0      1.0    10.0   \n",
       "1      1.0  1.0     5.0     1.0       5.0      6.0  9.0      1.0    10.0   \n",
       "2      1.0  1.0     5.0     1.0       5.0      6.0  9.0      1.0    10.0   \n",
       "3      1.0  1.0     5.0     1.0       5.0      6.0  9.0      1.0    10.0   \n",
       "4      1.0  1.0     5.0     1.0       5.0      6.0  9.0      1.0    10.0   \n",
       "\n",
       "   concerts  music  shopping  yoga  attr1_1  sinc1_1  intel1_1  fun1_1  \\\n",
       "0      10.0    9.0       8.0   1.0     15.0     20.0      20.0    15.0   \n",
       "1      10.0    9.0       8.0   1.0     15.0     20.0      20.0    15.0   \n",
       "2      10.0    9.0       8.0   1.0     15.0     20.0      20.0    15.0   \n",
       "3      10.0    9.0       8.0   1.0     15.0     20.0      20.0    15.0   \n",
       "4      10.0    9.0       8.0   1.0     15.0     20.0      20.0    15.0   \n",
       "\n",
       "   amb1_1  attr3_1  sinc3_1  fun3_1  intel3_1  dec  attr  sinc  intel  fun  \\\n",
       "0    15.0      6.0      8.0     8.0       8.0    1   6.0   9.0    7.0  7.0   \n",
       "1    15.0      6.0      8.0     8.0       8.0    1   7.0   8.0    7.0  8.0   \n",
       "2    15.0      6.0      8.0     8.0       8.0    1   5.0   8.0    9.0  8.0   \n",
       "3    15.0      6.0      8.0     8.0       8.0    1   7.0   6.0    8.0  7.0   \n",
       "4    15.0      6.0      8.0     8.0       8.0    1   5.0   6.0    7.0  7.0   \n",
       "\n",
       "   like  prob  met  \n",
       "0   7.0   6.0  2.0  \n",
       "1   7.0   5.0  1.0  \n",
       "2   7.0   NaN  1.0  \n",
       "3   7.0   6.0  2.0  \n",
       "4   6.0   6.0  2.0  "
      ]
     },
     "execution_count": 38,
     "metadata": {},
     "output_type": "execute_result"
    }
   ],
   "source": [
    "# В программе мы Тепловые карты ещё не проходили, но мне хотелось попробовать сделать их в работе\n",
    "# Сужение набора данных (нужно для построения Тепловой карты, без этой команды не получается, я пробовала)\n",
    "data_1 = Speed_DD.iloc[:, 11:28] # все значения данных столбцов\n",
    "data_2 = Speed_DD.iloc[:,30:35]\n",
    "data_3 = Speed_DD.iloc[:, 39:43]\n",
    "data_4 = Speed_DD.iloc[:, 45:67]\n",
    "data_5 = Speed_DD.iloc[:, 69:74]\n",
    "data_6 = Speed_DD.iloc[:, 87:91]\n",
    "data_7 = Speed_DD.iloc[:, 97:102]\n",
    "data_8 = Speed_DD.iloc[:, 104:107]\n",
    "# Iloc - Позволяет нам выбрать конкретную ячейку набора данных, то есть это помогает нам выбрать значение, которое принадлежит к определенной строке или столбцу из набора значений кадра данных или набора данных.\n",
    "# Пример: Функция ILOC [1: 3] будет включать от 1 до 3 и не включает индекс 3.\n",
    "Speed_DD = pd.concat([Speed_DD.iloc[:, 0],Speed_DD.iloc[:, 2],data_1,data_2,data_3,data_4,data_5,data_6,data_7,data_8], axis=1)\n",
    "Speed_DD.head()"
   ]
  },
  {
   "cell_type": "code",
   "execution_count": 40,
   "id": "f2cd5dbd",
   "metadata": {},
   "outputs": [
    {
     "data": {
      "image/png": "[encoded data removed]",
      "text/plain": [
       "<Figure size 1440x1080 with 3 Axes>"
      ]
     },
     "metadata": {
      "needs_background": "light"
     },
     "output_type": "display_data"
    }
   ],
   "source": [
    "Speed_DD_clean = Speed_DD.dropna().reset_index(drop=True)\n",
    "#Тепловая карта корреляции\n",
    "plt.subplots(figsize=(20,15)) #Для регулирования размера\n",
    "ax = plt.axes() #Для названия карты\n",
    "ax.set_title(\"Тепловая карта корреляции\")\n",
    "corr = Speed_DD_clean.corr() #Самая важная функция для построения тепловой карты\n",
    "corrplot=sns.heatmap(corr, \n",
    "            xticklabels=corr.columns.values,\n",
    "            yticklabels=corr.columns.values)\n",
    "corrplot.set_xticklabels(corrplot.get_xticklabels(), rotation = 45, horizontalalignment = 'right') # Для отметок на оси X (хотя график какой-то нагруженный)\n",
    "plt.show()"
   ]
  },
  {
   "cell_type": "markdown",
   "id": "bc5fed09",
   "metadata": {},
   "source": [
    "# Выводы к практической работе:\n",
    "\n",
    "1. 50% участников не получали звонков от своих матчеров, 27% получили только 1 звонок\n",
    "2. 62% участников не назначали никаких свиданий после экспериментов.\n",
    "3. Те, кто часто гуляют, получили больше \"совпадений\".\n",
    "4. 25% людей, которые ходят на свидания два раза в месяц или несколько раз в год, получили больше совпадений.\n",
    "5. Люди, у которых была цель провести фан-вечер и познакомиться с новыми людьми, получили наибольшее количество \"пар\".\n",
    "6. Религия и раса не так важны для \"соответствия\". \n",
    "7. Мужчины чаще ищут в партнёре привлекательность, а женщины - интеллект.\n",
    "8. Самым популярным времяпровождением для участников обоих полов является просмотр фильмов."
   ]
  }
 ],
 "metadata": {
  "kernelspec": {
   "display_name": "Python 3 (ipykernel)",
   "language": "python",
   "name": "python3"
  },
  "language_info": {
   "codemirror_mode": {
    "name": "ipython",
    "version": 3
   },
   "file_extension": ".py",
   "mimetype": "text/x-python",
   "name": "python",
   "nbconvert_exporter": "python",
   "pygments_lexer": "ipython3",
   "version": "3.9.12"
  }
 },
 "nbformat": 4,
 "nbformat_minor": 5
}
